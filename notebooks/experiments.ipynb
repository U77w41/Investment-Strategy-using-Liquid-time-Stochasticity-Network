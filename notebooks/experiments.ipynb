{
 "cells": [
  {
   "cell_type": "code",
   "execution_count": 1,
   "id": "3bd1578e",
   "metadata": {},
   "outputs": [],
   "source": [
    "import numpy as np\n",
    "import pandas as pd\n",
    "import matplotlib.pyplot as plt\n",
    "import tensorflow as tf\n",
    "import requests\n",
    "\n",
    "from lts import LTSCell"
   ]
  },
  {
   "cell_type": "code",
   "execution_count": 4,
   "id": "c9ba0f99",
   "metadata": {},
   "outputs": [],
   "source": [
    "url = 'http://api.scraperlink.com/investpy/?email=your@email.com&type=historical_data&product=cryptos&symbol=BTC&from_date=10/01/2013&to_date=2/1/2023'\n",
    "response = requests.request('GET', url)\n",
    "prices = response.json()['data']\n",
    "data = pd.DataFrame(prices)"
   ]
  },
  {
   "cell_type": "code",
   "execution_count": 5,
   "id": "9d9f6cdd",
   "metadata": {},
   "outputs": [
    {
     "data": {
      "text/html": [
       "<div>\n",
       "<style scoped>\n",
       "    .dataframe tbody tr th:only-of-type {\n",
       "        vertical-align: middle;\n",
       "    }\n",
       "\n",
       "    .dataframe tbody tr th {\n",
       "        vertical-align: top;\n",
       "    }\n",
       "\n",
       "    .dataframe thead th {\n",
       "        text-align: right;\n",
       "    }\n",
       "</style>\n",
       "<table border=\"1\" class=\"dataframe\">\n",
       "  <thead>\n",
       "    <tr style=\"text-align: right;\">\n",
       "      <th></th>\n",
       "      <th>direction_color</th>\n",
       "      <th>rowDate</th>\n",
       "      <th>rowDateRaw</th>\n",
       "      <th>rowDateTimestamp</th>\n",
       "      <th>last_close</th>\n",
       "      <th>last_open</th>\n",
       "      <th>last_max</th>\n",
       "      <th>last_min</th>\n",
       "      <th>volume</th>\n",
       "      <th>volumeRaw</th>\n",
       "      <th>change_precent</th>\n",
       "      <th>last_closeRaw</th>\n",
       "      <th>last_openRaw</th>\n",
       "      <th>last_maxRaw</th>\n",
       "      <th>last_minRaw</th>\n",
       "      <th>change_precentRaw</th>\n",
       "    </tr>\n",
       "  </thead>\n",
       "  <tbody>\n",
       "    <tr>\n",
       "      <th>0</th>\n",
       "      <td>redFont</td>\n",
       "      <td>Jan 02, 2023</td>\n",
       "      <td>1672617600</td>\n",
       "      <td>2023-01-02T00:00:00Z</td>\n",
       "      <td>16,576.2</td>\n",
       "      <td>16,618.4</td>\n",
       "      <td>16,625.9</td>\n",
       "      <td>16,551.0</td>\n",
       "      <td>108.75K</td>\n",
       "      <td>108749</td>\n",
       "      <td>-0.25</td>\n",
       "      <td>16576.24804687500000</td>\n",
       "      <td>16618.40625000000000</td>\n",
       "      <td>16625.90039062500000</td>\n",
       "      <td>16550.99414062500000</td>\n",
       "      <td>-0.253684</td>\n",
       "    </tr>\n",
       "    <tr>\n",
       "      <th>1</th>\n",
       "      <td>greenFont</td>\n",
       "      <td>Jan 01, 2023</td>\n",
       "      <td>1672531200</td>\n",
       "      <td>2023-01-01T00:00:00Z</td>\n",
       "      <td>16,618.4</td>\n",
       "      <td>16,537.5</td>\n",
       "      <td>16,621.9</td>\n",
       "      <td>16,499.7</td>\n",
       "      <td>107.84K</td>\n",
       "      <td>107837</td>\n",
       "      <td>0.49</td>\n",
       "      <td>16618.40625000000000</td>\n",
       "      <td>16537.54296875000000</td>\n",
       "      <td>16621.89843750000000</td>\n",
       "      <td>16499.66601562500000</td>\n",
       "      <td>0.489668</td>\n",
       "    </tr>\n",
       "    <tr>\n",
       "      <th>2</th>\n",
       "      <td>redFont</td>\n",
       "      <td>Dec 31, 2022</td>\n",
       "      <td>1672444800</td>\n",
       "      <td>2022-12-31T00:00:00Z</td>\n",
       "      <td>16,537.4</td>\n",
       "      <td>16,607.2</td>\n",
       "      <td>16,635.9</td>\n",
       "      <td>16,487.3</td>\n",
       "      <td>130.44K</td>\n",
       "      <td>130440</td>\n",
       "      <td>-0.42</td>\n",
       "      <td>16537.42773437500000</td>\n",
       "      <td>16607.19921875000000</td>\n",
       "      <td>16635.91210937500000</td>\n",
       "      <td>16487.26757812500000</td>\n",
       "      <td>-0.420128</td>\n",
       "    </tr>\n",
       "    <tr>\n",
       "      <th>3</th>\n",
       "      <td>redFont</td>\n",
       "      <td>Dec 30, 2022</td>\n",
       "      <td>1672358400</td>\n",
       "      <td>2022-12-30T00:00:00Z</td>\n",
       "      <td>16,607.2</td>\n",
       "      <td>16,636.4</td>\n",
       "      <td>16,644.4</td>\n",
       "      <td>16,360.0</td>\n",
       "      <td>192.76K</td>\n",
       "      <td>192763</td>\n",
       "      <td>-0.18</td>\n",
       "      <td>16607.19921875000000</td>\n",
       "      <td>16636.41601562500000</td>\n",
       "      <td>16644.35351562500000</td>\n",
       "      <td>16360.02832031250000</td>\n",
       "      <td>-0.175620</td>\n",
       "    </tr>\n",
       "    <tr>\n",
       "      <th>4</th>\n",
       "      <td>greenFont</td>\n",
       "      <td>Dec 29, 2022</td>\n",
       "      <td>1672272000</td>\n",
       "      <td>2022-12-29T00:00:00Z</td>\n",
       "      <td>16,636.4</td>\n",
       "      <td>16,546.2</td>\n",
       "      <td>16,659.1</td>\n",
       "      <td>16,496.6</td>\n",
       "      <td>181.47K</td>\n",
       "      <td>181466</td>\n",
       "      <td>0.55</td>\n",
       "      <td>16636.41601562500000</td>\n",
       "      <td>16546.18554687500000</td>\n",
       "      <td>16659.05664062500000</td>\n",
       "      <td>16496.56250000000000</td>\n",
       "      <td>0.545194</td>\n",
       "    </tr>\n",
       "  </tbody>\n",
       "</table>\n",
       "</div>"
      ],
      "text/plain": [
       "  direction_color       rowDate  rowDateRaw      rowDateTimestamp last_close  \\\n",
       "0         redFont  Jan 02, 2023  1672617600  2023-01-02T00:00:00Z   16,576.2   \n",
       "1       greenFont  Jan 01, 2023  1672531200  2023-01-01T00:00:00Z   16,618.4   \n",
       "2         redFont  Dec 31, 2022  1672444800  2022-12-31T00:00:00Z   16,537.4   \n",
       "3         redFont  Dec 30, 2022  1672358400  2022-12-30T00:00:00Z   16,607.2   \n",
       "4       greenFont  Dec 29, 2022  1672272000  2022-12-29T00:00:00Z   16,636.4   \n",
       "\n",
       "  last_open  last_max  last_min   volume  volumeRaw change_precent  \\\n",
       "0  16,618.4  16,625.9  16,551.0  108.75K     108749          -0.25   \n",
       "1  16,537.5  16,621.9  16,499.7  107.84K     107837           0.49   \n",
       "2  16,607.2  16,635.9  16,487.3  130.44K     130440          -0.42   \n",
       "3  16,636.4  16,644.4  16,360.0  192.76K     192763          -0.18   \n",
       "4  16,546.2  16,659.1  16,496.6  181.47K     181466           0.55   \n",
       "\n",
       "          last_closeRaw          last_openRaw           last_maxRaw  \\\n",
       "0  16576.24804687500000  16618.40625000000000  16625.90039062500000   \n",
       "1  16618.40625000000000  16537.54296875000000  16621.89843750000000   \n",
       "2  16537.42773437500000  16607.19921875000000  16635.91210937500000   \n",
       "3  16607.19921875000000  16636.41601562500000  16644.35351562500000   \n",
       "4  16636.41601562500000  16546.18554687500000  16659.05664062500000   \n",
       "\n",
       "            last_minRaw  change_precentRaw  \n",
       "0  16550.99414062500000          -0.253684  \n",
       "1  16499.66601562500000           0.489668  \n",
       "2  16487.26757812500000          -0.420128  \n",
       "3  16360.02832031250000          -0.175620  \n",
       "4  16496.56250000000000           0.545194  "
      ]
     },
     "execution_count": 5,
     "metadata": {},
     "output_type": "execute_result"
    }
   ],
   "source": [
    "data.head()"
   ]
  },
  {
   "cell_type": "code",
   "execution_count": 6,
   "id": "5643aa5d",
   "metadata": {},
   "outputs": [
    {
     "data": {
      "text/html": [
       "<div>\n",
       "<style scoped>\n",
       "    .dataframe tbody tr th:only-of-type {\n",
       "        vertical-align: middle;\n",
       "    }\n",
       "\n",
       "    .dataframe tbody tr th {\n",
       "        vertical-align: top;\n",
       "    }\n",
       "\n",
       "    .dataframe thead th {\n",
       "        text-align: right;\n",
       "    }\n",
       "</style>\n",
       "<table border=\"1\" class=\"dataframe\">\n",
       "  <thead>\n",
       "    <tr style=\"text-align: right;\">\n",
       "      <th></th>\n",
       "      <th>rowDate</th>\n",
       "      <th>last_closeRaw</th>\n",
       "      <th>last_openRaw</th>\n",
       "      <th>last_maxRaw</th>\n",
       "      <th>last_minRaw</th>\n",
       "    </tr>\n",
       "  </thead>\n",
       "  <tbody>\n",
       "    <tr>\n",
       "      <th>0</th>\n",
       "      <td>Jan 02, 2023</td>\n",
       "      <td>16576.24804687500000</td>\n",
       "      <td>16618.40625000000000</td>\n",
       "      <td>16625.90039062500000</td>\n",
       "      <td>16550.99414062500000</td>\n",
       "    </tr>\n",
       "    <tr>\n",
       "      <th>1</th>\n",
       "      <td>Jan 01, 2023</td>\n",
       "      <td>16618.40625000000000</td>\n",
       "      <td>16537.54296875000000</td>\n",
       "      <td>16621.89843750000000</td>\n",
       "      <td>16499.66601562500000</td>\n",
       "    </tr>\n",
       "    <tr>\n",
       "      <th>2</th>\n",
       "      <td>Dec 31, 2022</td>\n",
       "      <td>16537.42773437500000</td>\n",
       "      <td>16607.19921875000000</td>\n",
       "      <td>16635.91210937500000</td>\n",
       "      <td>16487.26757812500000</td>\n",
       "    </tr>\n",
       "    <tr>\n",
       "      <th>3</th>\n",
       "      <td>Dec 30, 2022</td>\n",
       "      <td>16607.19921875000000</td>\n",
       "      <td>16636.41601562500000</td>\n",
       "      <td>16644.35351562500000</td>\n",
       "      <td>16360.02832031250000</td>\n",
       "    </tr>\n",
       "    <tr>\n",
       "      <th>4</th>\n",
       "      <td>Dec 29, 2022</td>\n",
       "      <td>16636.41601562500000</td>\n",
       "      <td>16546.18554687500000</td>\n",
       "      <td>16659.05664062500000</td>\n",
       "      <td>16496.56250000000000</td>\n",
       "    </tr>\n",
       "  </tbody>\n",
       "</table>\n",
       "</div>"
      ],
      "text/plain": [
       "        rowDate         last_closeRaw          last_openRaw  \\\n",
       "0  Jan 02, 2023  16576.24804687500000  16618.40625000000000   \n",
       "1  Jan 01, 2023  16618.40625000000000  16537.54296875000000   \n",
       "2  Dec 31, 2022  16537.42773437500000  16607.19921875000000   \n",
       "3  Dec 30, 2022  16607.19921875000000  16636.41601562500000   \n",
       "4  Dec 29, 2022  16636.41601562500000  16546.18554687500000   \n",
       "\n",
       "            last_maxRaw           last_minRaw  \n",
       "0  16625.90039062500000  16550.99414062500000  \n",
       "1  16621.89843750000000  16499.66601562500000  \n",
       "2  16635.91210937500000  16487.26757812500000  \n",
       "3  16644.35351562500000  16360.02832031250000  \n",
       "4  16659.05664062500000  16496.56250000000000  "
      ]
     },
     "execution_count": 6,
     "metadata": {},
     "output_type": "execute_result"
    }
   ],
   "source": [
    "# Remove unnecessary columns\n",
    "data.drop(columns=[\n",
    "  'direction_color',\n",
    "  'rowDateRaw',\n",
    "  'rowDateTimestamp',\n",
    "\n",
    "  # Quantity of btc bought or sold\n",
    "  'volume',\n",
    "  'volumeRaw',\n",
    "  'change_precent',\n",
    "  'change_precentRaw',\n",
    "  'last_close',\n",
    "  'last_open',\n",
    "  'last_max',\n",
    "  'last_min'\n",
    "  ],\n",
    "  inplace=True\n",
    ")\n",
    "\n",
    "data.head()"
   ]
  },
  {
   "cell_type": "code",
   "execution_count": 7,
   "id": "d7c2c5af",
   "metadata": {},
   "outputs": [
    {
     "name": "stdout",
     "output_type": "stream",
     "text": [
      "<class 'pandas.core.frame.DataFrame'>\n",
      "RangeIndex: 3381 entries, 0 to 3380\n",
      "Data columns (total 5 columns):\n",
      " #   Column         Non-Null Count  Dtype \n",
      "---  ------         --------------  ----- \n",
      " 0   rowDate        3381 non-null   object\n",
      " 1   last_closeRaw  3381 non-null   object\n",
      " 2   last_openRaw   3381 non-null   object\n",
      " 3   last_maxRaw    3381 non-null   object\n",
      " 4   last_minRaw    3381 non-null   object\n",
      "dtypes: object(5)\n",
      "memory usage: 132.2+ KB\n"
     ]
    }
   ],
   "source": [
    "data.info()"
   ]
  },
  {
   "cell_type": "code",
   "execution_count": 8,
   "id": "428e484a",
   "metadata": {},
   "outputs": [
    {
     "data": {
      "text/plain": [
       "rowDate          0\n",
       "last_closeRaw    0\n",
       "last_openRaw     0\n",
       "last_maxRaw      0\n",
       "last_minRaw      0\n",
       "dtype: int64"
      ]
     },
     "execution_count": 8,
     "metadata": {},
     "output_type": "execute_result"
    }
   ],
   "source": [
    "data.isnull().sum()"
   ]
  },
  {
   "cell_type": "code",
   "execution_count": 9,
   "id": "fd6defd7",
   "metadata": {},
   "outputs": [],
   "source": [
    "# Convert date object to datetime\n",
    "data['rowDate'] = pd.to_datetime(data['rowDate'])\n",
    "\n",
    "# Convert values to floats\n",
    "data = data.astype({\n",
    "    'last_closeRaw': 'float',\n",
    "    'last_openRaw': 'float',\n",
    "    'last_maxRaw': 'float',\n",
    "    'last_minRaw': 'float'\n",
    "})"
   ]
  },
  {
   "cell_type": "code",
   "execution_count": 10,
   "id": "1eb21dbb",
   "metadata": {},
   "outputs": [
    {
     "name": "stdout",
     "output_type": "stream",
     "text": [
      "<class 'pandas.core.frame.DataFrame'>\n",
      "RangeIndex: 3381 entries, 0 to 3380\n",
      "Data columns (total 5 columns):\n",
      " #   Column         Non-Null Count  Dtype         \n",
      "---  ------         --------------  -----         \n",
      " 0   rowDate        3381 non-null   datetime64[ns]\n",
      " 1   last_closeRaw  3381 non-null   float64       \n",
      " 2   last_openRaw   3381 non-null   float64       \n",
      " 3   last_maxRaw    3381 non-null   float64       \n",
      " 4   last_minRaw    3381 non-null   float64       \n",
      "dtypes: datetime64[ns](1), float64(4)\n",
      "memory usage: 132.2 KB\n"
     ]
    }
   ],
   "source": [
    "data.info()"
   ]
  },
  {
   "cell_type": "code",
   "execution_count": 11,
   "id": "0836bfb3",
   "metadata": {},
   "outputs": [
    {
     "data": {
      "text/html": [
       "<div>\n",
       "<style scoped>\n",
       "    .dataframe tbody tr th:only-of-type {\n",
       "        vertical-align: middle;\n",
       "    }\n",
       "\n",
       "    .dataframe tbody tr th {\n",
       "        vertical-align: top;\n",
       "    }\n",
       "\n",
       "    .dataframe thead th {\n",
       "        text-align: right;\n",
       "    }\n",
       "</style>\n",
       "<table border=\"1\" class=\"dataframe\">\n",
       "  <thead>\n",
       "    <tr style=\"text-align: right;\">\n",
       "      <th></th>\n",
       "      <th>rowDate</th>\n",
       "      <th>last_closeRaw</th>\n",
       "      <th>last_openRaw</th>\n",
       "      <th>last_maxRaw</th>\n",
       "      <th>last_minRaw</th>\n",
       "    </tr>\n",
       "  </thead>\n",
       "  <tbody>\n",
       "    <tr>\n",
       "      <th>0</th>\n",
       "      <td>2023-01-02</td>\n",
       "      <td>16576.248047</td>\n",
       "      <td>16618.406250</td>\n",
       "      <td>16625.900391</td>\n",
       "      <td>16550.994141</td>\n",
       "    </tr>\n",
       "    <tr>\n",
       "      <th>1</th>\n",
       "      <td>2023-01-01</td>\n",
       "      <td>16618.406250</td>\n",
       "      <td>16537.542969</td>\n",
       "      <td>16621.898438</td>\n",
       "      <td>16499.666016</td>\n",
       "    </tr>\n",
       "    <tr>\n",
       "      <th>2</th>\n",
       "      <td>2022-12-31</td>\n",
       "      <td>16537.427734</td>\n",
       "      <td>16607.199219</td>\n",
       "      <td>16635.912109</td>\n",
       "      <td>16487.267578</td>\n",
       "    </tr>\n",
       "    <tr>\n",
       "      <th>3</th>\n",
       "      <td>2022-12-30</td>\n",
       "      <td>16607.199219</td>\n",
       "      <td>16636.416016</td>\n",
       "      <td>16644.353516</td>\n",
       "      <td>16360.028320</td>\n",
       "    </tr>\n",
       "    <tr>\n",
       "      <th>4</th>\n",
       "      <td>2022-12-29</td>\n",
       "      <td>16636.416016</td>\n",
       "      <td>16546.185547</td>\n",
       "      <td>16659.056641</td>\n",
       "      <td>16496.562500</td>\n",
       "    </tr>\n",
       "  </tbody>\n",
       "</table>\n",
       "</div>"
      ],
      "text/plain": [
       "     rowDate  last_closeRaw  last_openRaw   last_maxRaw   last_minRaw\n",
       "0 2023-01-02   16576.248047  16618.406250  16625.900391  16550.994141\n",
       "1 2023-01-01   16618.406250  16537.542969  16621.898438  16499.666016\n",
       "2 2022-12-31   16537.427734  16607.199219  16635.912109  16487.267578\n",
       "3 2022-12-30   16607.199219  16636.416016  16644.353516  16360.028320\n",
       "4 2022-12-29   16636.416016  16546.185547  16659.056641  16496.562500"
      ]
     },
     "execution_count": 11,
     "metadata": {},
     "output_type": "execute_result"
    }
   ],
   "source": [
    "data.head()"
   ]
  },
  {
   "cell_type": "code",
   "execution_count": 12,
   "id": "6a8ec0d6",
   "metadata": {},
   "outputs": [],
   "source": [
    "data.rename(\n",
    "    columns={\n",
    "        'last_closeRaw': 'close',\n",
    "        'last_openRaw': 'open',\n",
    "        'last_maxRaw': 'high',\n",
    "        'last_minRaw': 'low',\n",
    "        'rowDate': 'Date'\n",
    "    },\n",
    "    inplace=True\n",
    ")"
   ]
  },
  {
   "cell_type": "code",
   "execution_count": 13,
   "id": "3533749a",
   "metadata": {},
   "outputs": [
    {
     "data": {
      "text/html": [
       "<div>\n",
       "<style scoped>\n",
       "    .dataframe tbody tr th:only-of-type {\n",
       "        vertical-align: middle;\n",
       "    }\n",
       "\n",
       "    .dataframe tbody tr th {\n",
       "        vertical-align: top;\n",
       "    }\n",
       "\n",
       "    .dataframe thead th {\n",
       "        text-align: right;\n",
       "    }\n",
       "</style>\n",
       "<table border=\"1\" class=\"dataframe\">\n",
       "  <thead>\n",
       "    <tr style=\"text-align: right;\">\n",
       "      <th></th>\n",
       "      <th>Date</th>\n",
       "      <th>close</th>\n",
       "      <th>open</th>\n",
       "      <th>high</th>\n",
       "      <th>low</th>\n",
       "    </tr>\n",
       "  </thead>\n",
       "  <tbody>\n",
       "    <tr>\n",
       "      <th>0</th>\n",
       "      <td>2023-01-02</td>\n",
       "      <td>16576.248047</td>\n",
       "      <td>16618.406250</td>\n",
       "      <td>16625.900391</td>\n",
       "      <td>16550.994141</td>\n",
       "    </tr>\n",
       "    <tr>\n",
       "      <th>1</th>\n",
       "      <td>2023-01-01</td>\n",
       "      <td>16618.406250</td>\n",
       "      <td>16537.542969</td>\n",
       "      <td>16621.898438</td>\n",
       "      <td>16499.666016</td>\n",
       "    </tr>\n",
       "    <tr>\n",
       "      <th>2</th>\n",
       "      <td>2022-12-31</td>\n",
       "      <td>16537.427734</td>\n",
       "      <td>16607.199219</td>\n",
       "      <td>16635.912109</td>\n",
       "      <td>16487.267578</td>\n",
       "    </tr>\n",
       "    <tr>\n",
       "      <th>3</th>\n",
       "      <td>2022-12-30</td>\n",
       "      <td>16607.199219</td>\n",
       "      <td>16636.416016</td>\n",
       "      <td>16644.353516</td>\n",
       "      <td>16360.028320</td>\n",
       "    </tr>\n",
       "    <tr>\n",
       "      <th>4</th>\n",
       "      <td>2022-12-29</td>\n",
       "      <td>16636.416016</td>\n",
       "      <td>16546.185547</td>\n",
       "      <td>16659.056641</td>\n",
       "      <td>16496.562500</td>\n",
       "    </tr>\n",
       "  </tbody>\n",
       "</table>\n",
       "</div>"
      ],
      "text/plain": [
       "        Date         close          open          high           low\n",
       "0 2023-01-02  16576.248047  16618.406250  16625.900391  16550.994141\n",
       "1 2023-01-01  16618.406250  16537.542969  16621.898438  16499.666016\n",
       "2 2022-12-31  16537.427734  16607.199219  16635.912109  16487.267578\n",
       "3 2022-12-30  16607.199219  16636.416016  16644.353516  16360.028320\n",
       "4 2022-12-29  16636.416016  16546.185547  16659.056641  16496.562500"
      ]
     },
     "execution_count": 13,
     "metadata": {},
     "output_type": "execute_result"
    }
   ],
   "source": [
    "data.head()"
   ]
  },
  {
   "cell_type": "code",
   "execution_count": 14,
   "id": "0521e3df",
   "metadata": {},
   "outputs": [],
   "source": [
    "data.set_index('Date', inplace=True)"
   ]
  },
  {
   "cell_type": "code",
   "execution_count": 15,
   "id": "1fde8512",
   "metadata": {},
   "outputs": [],
   "source": [
    "btc_prices = pd.DataFrame(data['close']).rename(columns={ 'close': 'Price' })"
   ]
  },
  {
   "cell_type": "code",
   "execution_count": 16,
   "id": "3b31619a",
   "metadata": {},
   "outputs": [
    {
     "data": {
      "text/html": [
       "<div>\n",
       "<style scoped>\n",
       "    .dataframe tbody tr th:only-of-type {\n",
       "        vertical-align: middle;\n",
       "    }\n",
       "\n",
       "    .dataframe tbody tr th {\n",
       "        vertical-align: top;\n",
       "    }\n",
       "\n",
       "    .dataframe thead th {\n",
       "        text-align: right;\n",
       "    }\n",
       "</style>\n",
       "<table border=\"1\" class=\"dataframe\">\n",
       "  <thead>\n",
       "    <tr style=\"text-align: right;\">\n",
       "      <th></th>\n",
       "      <th>Price</th>\n",
       "    </tr>\n",
       "    <tr>\n",
       "      <th>Date</th>\n",
       "      <th></th>\n",
       "    </tr>\n",
       "  </thead>\n",
       "  <tbody>\n",
       "    <tr>\n",
       "      <th>2023-01-02</th>\n",
       "      <td>16576.248047</td>\n",
       "    </tr>\n",
       "    <tr>\n",
       "      <th>2023-01-01</th>\n",
       "      <td>16618.406250</td>\n",
       "    </tr>\n",
       "    <tr>\n",
       "      <th>2022-12-31</th>\n",
       "      <td>16537.427734</td>\n",
       "    </tr>\n",
       "    <tr>\n",
       "      <th>2022-12-30</th>\n",
       "      <td>16607.199219</td>\n",
       "    </tr>\n",
       "    <tr>\n",
       "      <th>2022-12-29</th>\n",
       "      <td>16636.416016</td>\n",
       "    </tr>\n",
       "  </tbody>\n",
       "</table>\n",
       "</div>"
      ],
      "text/plain": [
       "                   Price\n",
       "Date                    \n",
       "2023-01-02  16576.248047\n",
       "2023-01-01  16618.406250\n",
       "2022-12-31  16537.427734\n",
       "2022-12-30  16607.199219\n",
       "2022-12-29  16636.416016"
      ]
     },
     "execution_count": 16,
     "metadata": {},
     "output_type": "execute_result"
    }
   ],
   "source": [
    "btc_prices.head()"
   ]
  },
  {
   "cell_type": "code",
   "execution_count": 17,
   "id": "d33fd9d5",
   "metadata": {},
   "outputs": [
    {
     "data": {
      "image/png": "[encoded data removed]",
      "text/plain": [
       "<Figure size 720x504 with 1 Axes>"
      ]
     },
     "metadata": {
      "needs_background": "light"
     },
     "output_type": "display_data"
    }
   ],
   "source": [
    "# Visualize closing prices\n",
    "import matplotlib.pyplot as plt\n",
    "\n",
    "btc_prices.plot(figsize=(10, 7))\n",
    "plt.ylabel('BTC Price')\n",
    "plt.title('Price of Bitcoin from Oct 2014 to Oct 2022', fontsize=16)\n",
    "plt.legend(fontsize=14);"
   ]
  },
  {
   "cell_type": "code",
   "execution_count": 18,
   "id": "f51d9e86",
   "metadata": {},
   "outputs": [
    {
     "data": {
      "text/html": [
       "<div>\n",
       "<style scoped>\n",
       "    .dataframe tbody tr th:only-of-type {\n",
       "        vertical-align: middle;\n",
       "    }\n",
       "\n",
       "    .dataframe tbody tr th {\n",
       "        vertical-align: top;\n",
       "    }\n",
       "\n",
       "    .dataframe thead th {\n",
       "        text-align: right;\n",
       "    }\n",
       "</style>\n",
       "<table border=\"1\" class=\"dataframe\">\n",
       "  <thead>\n",
       "    <tr style=\"text-align: right;\">\n",
       "      <th></th>\n",
       "      <th>Price</th>\n",
       "    </tr>\n",
       "    <tr>\n",
       "      <th>Date</th>\n",
       "      <th></th>\n",
       "    </tr>\n",
       "  </thead>\n",
       "  <tbody>\n",
       "    <tr>\n",
       "      <th>2013-10-01</th>\n",
       "      <td>140.300003</td>\n",
       "    </tr>\n",
       "    <tr>\n",
       "      <th>2013-10-02</th>\n",
       "      <td>123.000000</td>\n",
       "    </tr>\n",
       "    <tr>\n",
       "      <th>2013-10-03</th>\n",
       "      <td>130.990005</td>\n",
       "    </tr>\n",
       "    <tr>\n",
       "      <th>2013-10-04</th>\n",
       "      <td>136.820007</td>\n",
       "    </tr>\n",
       "    <tr>\n",
       "      <th>2013-10-05</th>\n",
       "      <td>136.699997</td>\n",
       "    </tr>\n",
       "  </tbody>\n",
       "</table>\n",
       "</div>"
      ],
      "text/plain": [
       "                 Price\n",
       "Date                  \n",
       "2013-10-01  140.300003\n",
       "2013-10-02  123.000000\n",
       "2013-10-03  130.990005\n",
       "2013-10-04  136.820007\n",
       "2013-10-05  136.699997"
      ]
     },
     "execution_count": 18,
     "metadata": {},
     "output_type": "execute_result"
    }
   ],
   "source": [
    "# Sort ascending order of prices\n",
    "btc_prices.sort_values('Date', inplace=True)\n",
    "btc_prices.head()"
   ]
  },
  {
   "cell_type": "code",
   "execution_count": 19,
   "id": "ae9f158d",
   "metadata": {},
   "outputs": [],
   "source": [
    "timesteps = btc_prices.index.to_numpy()\n",
    "prices = btc_prices['Price'].to_numpy()"
   ]
  },
  {
   "cell_type": "code",
   "execution_count": 20,
   "id": "c671c9ec",
   "metadata": {},
   "outputs": [
    {
     "data": {
      "text/plain": [
       "(array(['2013-10-01T00:00:00.000000000', '2013-10-02T00:00:00.000000000',\n",
       "        '2013-10-03T00:00:00.000000000', ...,\n",
       "        '2022-12-31T00:00:00.000000000', '2023-01-01T00:00:00.000000000',\n",
       "        '2023-01-02T00:00:00.000000000'], dtype='datetime64[ns]'),\n",
       " array([  140.30000305,   123.        ,   130.99000549, ...,\n",
       "        16537.42773438, 16618.40625   , 16576.24804688]))"
      ]
     },
     "execution_count": 20,
     "metadata": {},
     "output_type": "execute_result"
    }
   ],
   "source": [
    "timesteps, prices"
   ]
  },
  {
   "cell_type": "code",
   "execution_count": 21,
   "id": "81af47f3",
   "metadata": {},
   "outputs": [
    {
     "data": {
      "text/plain": [
       "((2704,), (677,), (2704,), (677,))"
      ]
     },
     "execution_count": 21,
     "metadata": {},
     "output_type": "execute_result"
    }
   ],
   "source": [
    "# Create sequential splits at a specified point (80% train, 20% test)\n",
    "split_size = int(.8 * len(prices))\n",
    "\n",
    "X_train, y_train = timesteps[:split_size], prices[:split_size]\n",
    "X_test, y_test = timesteps[split_size:], prices[split_size:]\n",
    "\n",
    "X_train.shape, X_test.shape, y_train.shape, y_test.shape"
   ]
  },
  {
   "cell_type": "code",
   "execution_count": 22,
   "id": "ee13c3f9",
   "metadata": {},
   "outputs": [],
   "source": [
    "# Create a helper plotting function\n",
    "def plot_time_series(timesteps, prices, format='.', start=0, end=None, label=None):\n",
    "    plt.plot(timesteps[start:end], prices[start:end], format, label=label)\n",
    "    plt.xlabel('Date')\n",
    "    plt.ylabel('Price')\n",
    "    if label:\n",
    "        plt.legend(fontsize=14)\n",
    "\n",
    "    # Display a grid for easier measurement readings\n",
    "    plt.grid(True)"
   ]
  },
  {
   "cell_type": "code",
   "execution_count": 23,
   "id": "6241d337",
   "metadata": {
    "scrolled": false
   },
   "outputs": [
    {
     "data": {
      "image/png": "[encoded data removed]",
      "text/plain": [
       "<Figure size 432x288 with 1 Axes>"
      ]
     },
     "metadata": {
      "needs_background": "light"
     },
     "output_type": "display_data"
    }
   ],
   "source": [
    "plot_time_series(X_train, y_train, label='Training data')\n",
    "plot_time_series(X_test, y_test, label='Test data')"
   ]
  },
  {
   "cell_type": "markdown",
   "id": "b4522dff",
   "metadata": {},
   "source": [
    "### Create windowed train & test sets"
   ]
  },
  {
   "cell_type": "markdown",
   "id": "4c73c30c",
   "metadata": {},
   "source": [
    "**Phase 01 - Horizon 1; Window 7**"
   ]
  },
  {
   "cell_type": "code",
   "execution_count": 24,
   "id": "e0a1fafc",
   "metadata": {},
   "outputs": [],
   "source": [
    "# predict 1 step at a time\n",
    "HORIZON = 1\n",
    "\n",
    "# use a week worth of timesteps to predict the horizon\n",
    "WINDOW_SIZE = 7"
   ]
  },
  {
   "cell_type": "code",
   "execution_count": 25,
   "id": "bf5b8858",
   "metadata": {},
   "outputs": [],
   "source": [
    "# Create function to label windowed data\n",
    "def get_labelled_windows(x, horizon=1):\n",
    "    return x[:, :-horizon], x[:, -horizon:]"
   ]
  },
  {
   "cell_type": "code",
   "execution_count": 26,
   "id": "243dfc20",
   "metadata": {},
   "outputs": [],
   "source": [
    "# Create a function to make windows across entire time series\n",
    "def make_windows(x, window_size=7, horizon=1):\n",
    "    # Create a window of specific window_size\n",
    "    window_step = np.expand_dims(np.arange(window_size + horizon), axis=0)\n",
    "    \n",
    "    # Create a 2D array of multiple window steps\n",
    "    window_indexes = window_step + np.expand_dims(np.arange(len(x) - (window_size + horizon - 1)), axis=0).T\n",
    "    \n",
    "    windowed_array = x[window_indexes]\n",
    "    \n",
    "    windows, labels = get_labelled_windows(windowed_array, horizon)\n",
    "    return windows, labels"
   ]
  },
  {
   "cell_type": "code",
   "execution_count": 27,
   "id": "2609aa60",
   "metadata": {},
   "outputs": [],
   "source": [
    "full_windows, full_labels = make_windows(prices, WINDOW_SIZE, HORIZON)"
   ]
  },
  {
   "cell_type": "code",
   "execution_count": 28,
   "id": "807180e8",
   "metadata": {},
   "outputs": [
    {
     "data": {
      "text/plain": [
       "(array([[  140.30000305,   123.        ,   130.99000549, ...,\n",
       "           136.69999695,   137.80000305,   135.80000305],\n",
       "        [  123.        ,   130.99000549,   136.82000732, ...,\n",
       "           137.80000305,   135.80000305,   136.49000549],\n",
       "        [  130.99000549,   136.82000732,   136.69999695, ...,\n",
       "           135.80000305,   136.49000549,   139.5       ],\n",
       "        ...,\n",
       "        [16837.23632812, 16831.79296875, 16918.1171875 , ...,\n",
       "         16546.20703125, 16636.41601562, 16607.19921875],\n",
       "        [16831.79296875, 16918.1171875 , 16706.07421875, ...,\n",
       "         16636.41601562, 16607.19921875, 16537.42773438],\n",
       "        [16918.1171875 , 16706.07421875, 16546.20703125, ...,\n",
       "         16607.19921875, 16537.42773438, 16618.40625   ]]),\n",
       " array([[  136.49000549],\n",
       "        [  139.5       ],\n",
       "        [  140.41000366],\n",
       "        ...,\n",
       "        [16537.42773438],\n",
       "        [16618.40625   ],\n",
       "        [16576.24804688]]))"
      ]
     },
     "execution_count": 28,
     "metadata": {},
     "output_type": "execute_result"
    }
   ],
   "source": [
    "full_windows, full_labels"
   ]
  },
  {
   "cell_type": "code",
   "execution_count": 29,
   "id": "41306e57",
   "metadata": {},
   "outputs": [],
   "source": [
    "def make_train_test_splits(windows, labels, test_split=.2):\n",
    "    split_size = int(len(windows) * (1 - test_split)) # 80%\n",
    "    train_windows = windows[:split_size]\n",
    "    train_labels = labels[:split_size]\n",
    "    test_windows = windows[split_size:]\n",
    "    test_labels = labels[split_size:]\n",
    "    return train_windows, test_windows, train_labels, test_labels"
   ]
  },
  {
   "cell_type": "code",
   "execution_count": 30,
   "id": "910333fe",
   "metadata": {},
   "outputs": [
    {
     "data": {
      "text/plain": [
       "(2699, 675, 2699, 675)"
      ]
     },
     "execution_count": 30,
     "metadata": {},
     "output_type": "execute_result"
    }
   ],
   "source": [
    "train_windows, test_windows, train_labels, test_labels = make_train_test_splits(full_windows, full_labels)\n",
    "len(train_windows), len(test_windows), len(train_labels), len(test_labels)"
   ]
  },
  {
   "cell_type": "markdown",
   "id": "38502fa8",
   "metadata": {},
   "source": [
    "### Attempt model training"
   ]
  },
  {
   "cell_type": "code",
   "execution_count": 29,
   "id": "137689b1",
   "metadata": {
    "scrolled": false
   },
   "outputs": [],
   "source": [
    "model = tf.keras.Sequential([\n",
    "    tf.keras.layers.Input(shape=(WINDOW_SIZE)),\n",
    "    \n",
    "    # Expand dimensions to align with required input shape\n",
    "    tf.keras.layers.Lambda(lambda x: tf.expand_dims(x, axis=1)),\n",
    "    tf.keras.layers.RNN(LTSCell(32), time_major=True),\n",
    "    tf.keras.layers.Dense(HORIZON, activation='linear')\n",
    "])"
   ]
  },
  {
   "cell_type": "code",
   "execution_count": 30,
   "id": "619c2326",
   "metadata": {},
   "outputs": [
    {
     "name": "stdout",
     "output_type": "stream",
     "text": [
      "Model: \"sequential\"\n",
      "_________________________________________________________________\n",
      " Layer (type)                Output Shape              Param #   \n",
      "=================================================================\n",
      " lambda (Lambda)             (None, 1, 7)              0         \n",
      "                                                                 \n",
      " rnn (RNN)                   (1, 32)                   5040      \n",
      "                                                                 \n",
      " dense (Dense)               (1, 1)                    33        \n",
      "                                                                 \n",
      "=================================================================\n",
      "Total params: 5,073\n",
      "Trainable params: 5,073\n",
      "Non-trainable params: 0\n",
      "_________________________________________________________________\n"
     ]
    }
   ],
   "source": [
    "model.summary()"
   ]
  },
  {
   "cell_type": "code",
   "execution_count": 44,
   "id": "9d818069",
   "metadata": {
    "scrolled": false
   },
   "outputs": [
    {
     "name": "stdout",
     "output_type": "stream",
     "text": [
      "Epoch 1/10\n",
      "83/83 [==============================] - 10s 59ms/step - loss: nan - mae: nan - mse: nan\n",
      "Epoch 2/10\n",
      "83/83 [==============================] - 5s 57ms/step - loss: nan - mae: nan - mse: nan\n",
      "Epoch 3/10\n",
      "83/83 [==============================] - 5s 55ms/step - loss: nan - mae: nan - mse: nan\n",
      "Epoch 4/10\n",
      "83/83 [==============================] - 4s 54ms/step - loss: nan - mae: nan - mse: nan\n",
      "Epoch 5/10\n",
      "83/83 [==============================] - 5s 55ms/step - loss: nan - mae: nan - mse: nan\n",
      "Epoch 6/10\n",
      "83/83 [==============================] - 5s 60ms/step - loss: nan - mae: nan - mse: nan\n",
      "Epoch 7/10\n",
      "83/83 [==============================] - 5s 56ms/step - loss: nan - mae: nan - mse: nan\n",
      "Epoch 8/10\n",
      "83/83 [==============================] - 5s 56ms/step - loss: nan - mae: nan - mse: nan\n",
      "Epoch 9/10\n",
      "83/83 [==============================] - 5s 55ms/step - loss: nan - mae: nan - mse: nan\n",
      "Epoch 10/10\n",
      "83/83 [==============================] - 5s 56ms/step - loss: nan - mae: nan - mse: nan\n"
     ]
    }
   ],
   "source": [
    "model.compile(\n",
    "    optimizer = tf.keras.optimizers.Adam(\n",
    "        learning_rate = .01,\n",
    "        clipvalue=.5\n",
    "    ),\n",
    "    loss = tf.keras.losses.MAE,\n",
    "    metrics = ['mae', 'mse']\n",
    ")\n",
    "\n",
    "history_1 = model.fit(\n",
    "    train_windows,\n",
    "    train_labels,\n",
    "    epochs=10,\n",
    ")"
   ]
  },
  {
   "cell_type": "markdown",
   "id": "7e385c6d",
   "metadata": {},
   "source": [
    "Gradient explosion occurs - Add LSTM layer"
   ]
  },
  {
   "cell_type": "markdown",
   "id": "bc9ff514",
   "metadata": {},
   "source": [
    "### Experiments\n",
    "train for less number of epochs for faster experimentation"
   ]
  },
  {
   "attachments": {},
   "cell_type": "markdown",
   "id": "ae0c934f",
   "metadata": {},
   "source": [
    "**Model 2 - LTS, LSTM - activation tanh**"
   ]
  },
  {
   "cell_type": "code",
   "execution_count": 30,
   "id": "2839a801",
   "metadata": {},
   "outputs": [],
   "source": [
    "model_2 = tf.keras.Sequential([\n",
    "    tf.keras.layers.Input(shape=(WINDOW_SIZE)),\n",
    "    tf.keras.layers.Lambda(lambda x: tf.expand_dims(x, axis=1)),\n",
    "    tf.keras.layers.RNN(LTSCell(128), time_major=True, return_sequences=True),\n",
    "    tf.keras.layers.LSTM(128),\n",
    "    tf.keras.layers.Dense(HORIZON, activation='linear')\n",
    "])"
   ]
  },
  {
   "cell_type": "code",
   "execution_count": 31,
   "id": "4e98bf5f",
   "metadata": {},
   "outputs": [],
   "source": [
    "model_2.compile(\n",
    "    optimizer = tf.keras.optimizers.Adam(learning_rate = .01),\n",
    "    loss = tf.keras.losses.MAE,\n",
    "    metrics = ['mae', 'mse']\n",
    ")"
   ]
  },
  {
   "cell_type": "code",
   "execution_count": 32,
   "id": "dc333126",
   "metadata": {
    "scrolled": true
   },
   "outputs": [
    {
     "name": "stdout",
     "output_type": "stream",
     "text": [
      "Epoch 1/10\n",
      "83/83 [==============================] - 21s 146ms/step - loss: 4372.9141 - mae: 4372.9141 - mse: 43273584.0000\n",
      "Epoch 2/10\n",
      "83/83 [==============================] - 11s 139ms/step - loss: 4287.7246 - mae: 4287.7246 - mse: 42528044.0000\n",
      "Epoch 3/10\n",
      "83/83 [==============================] - 12s 145ms/step - loss: 4207.5068 - mae: 4207.5068 - mse: 41833844.0000\n",
      "Epoch 4/10\n",
      "83/83 [==============================] - 12s 145ms/step - loss: 4145.5225 - mae: 4145.5225 - mse: 41230492.0000\n",
      "Epoch 5/10\n",
      "83/83 [==============================] - 12s 139ms/step - loss: 4098.0391 - mae: 4098.0391 - mse: 40693164.0000\n",
      "Epoch 6/10\n",
      "83/83 [==============================] - 11s 137ms/step - loss: 4059.2590 - mae: 4059.2590 - mse: 40201160.0000\n",
      "Epoch 7/10\n",
      "83/83 [==============================] - 11s 135ms/step - loss: 4031.4204 - mae: 4031.4204 - mse: 39782460.0000\n",
      "Epoch 8/10\n",
      "83/83 [==============================] - 12s 139ms/step - loss: 4010.4553 - mae: 4010.4553 - mse: 39411092.0000\n",
      "Epoch 9/10\n",
      "83/83 [==============================] - 11s 139ms/step - loss: 3991.2244 - mae: 3991.2244 - mse: 39043848.0000\n",
      "Epoch 10/10\n",
      "83/83 [==============================] - 11s 137ms/step - loss: 3974.9739 - mae: 3974.9739 - mse: 38709372.0000\n"
     ]
    }
   ],
   "source": [
    "history_2 = model_2.fit(\n",
    "    train_windows,\n",
    "    train_labels,\n",
    "    epochs=10,\n",
    ")"
   ]
  },
  {
   "attachments": {},
   "cell_type": "markdown",
   "id": "b8ad165f",
   "metadata": {},
   "source": [
    "**Model 2 - LTS, LSTM - activation relu**"
   ]
  },
  {
   "cell_type": "code",
   "execution_count": 40,
   "id": "20d1440c",
   "metadata": {},
   "outputs": [],
   "source": [
    "model_3 = tf.keras.Sequential([\n",
    "    tf.keras.layers.Input(shape=(WINDOW_SIZE)),\n",
    "    tf.keras.layers.Lambda(lambda x: tf.expand_dims(x, axis=1)),\n",
    "    tf.keras.layers.RNN(LTSCell(128), time_major=True, return_sequences=True),\n",
    "    tf.keras.layers.LSTM(128, activation='relu'),\n",
    "    tf.keras.layers.Dense(HORIZON, activation='linear')\n",
    "])"
   ]
  },
  {
   "cell_type": "code",
   "execution_count": 41,
   "id": "858624b8",
   "metadata": {},
   "outputs": [],
   "source": [
    "model_3.compile(\n",
    "    optimizer = tf.keras.optimizers.Adam(learning_rate = .01),\n",
    "    loss = tf.keras.losses.MAE,\n",
    "    metrics = ['mae', 'mse']\n",
    ")"
   ]
  },
  {
   "cell_type": "code",
   "execution_count": 35,
   "id": "25792eac",
   "metadata": {},
   "outputs": [
    {
     "name": "stdout",
     "output_type": "stream",
     "text": [
      "Epoch 1/10\n",
      "83/83 [==============================] - 18s 125ms/step - loss: 4036.5979 - mae: 4036.5979 - mse: 34951756.0000\n",
      "Epoch 2/10\n",
      "83/83 [==============================] - 10s 126ms/step - loss: 3887.4932 - mae: 3887.4932 - mse: 30614040.0000\n",
      "Epoch 3/10\n",
      "83/83 [==============================] - 11s 131ms/step - loss: 3888.0662 - mae: 3888.0662 - mse: 29839728.0000\n",
      "Epoch 4/10\n",
      "83/83 [==============================] - 13s 155ms/step - loss: 3893.5405 - mae: 3893.5405 - mse: 31972696.0000\n",
      "Epoch 5/10\n",
      "83/83 [==============================] - 10s 125ms/step - loss: 3885.5898 - mae: 3885.5898 - mse: 29777146.0000\n",
      "Epoch 6/10\n",
      "83/83 [==============================] - 11s 134ms/step - loss: 3882.2156 - mae: 3882.2156 - mse: 29110770.0000\n",
      "Epoch 7/10\n",
      "83/83 [==============================] - 11s 135ms/step - loss: 3891.8828 - mae: 3891.8828 - mse: 33197134.0000\n",
      "Epoch 8/10\n",
      "83/83 [==============================] - 11s 127ms/step - loss: 3889.1423 - mae: 3889.1423 - mse: 31033480.0000\n",
      "Epoch 9/10\n",
      "83/83 [==============================] - 10s 125ms/step - loss: 3886.7629 - mae: 3886.7629 - mse: 31257466.0000\n",
      "Epoch 10/10\n",
      "83/83 [==============================] - 10s 122ms/step - loss: 3893.5042 - mae: 3893.5042 - mse: 30507088.0000\n"
     ]
    }
   ],
   "source": [
    "history_3 = model_3.fit(\n",
    "    train_windows,\n",
    "    train_labels,\n",
    "    epochs=10,\n",
    ")"
   ]
  },
  {
   "cell_type": "markdown",
   "id": "358ea3da",
   "metadata": {},
   "source": [
    "LSTM with ReLU activation performs better - moving forward with ReLU"
   ]
  },
  {
   "attachments": {},
   "cell_type": "markdown",
   "id": "3abba21e",
   "metadata": {},
   "source": [
    "**Model 3 - Two LTS layers, LSTM**"
   ]
  },
  {
   "cell_type": "code",
   "execution_count": 39,
   "id": "20f5adfc",
   "metadata": {},
   "outputs": [],
   "source": [
    "model_4 = tf.keras.Sequential([\n",
    "    tf.keras.layers.Input(shape=(WINDOW_SIZE)),\n",
    "    tf.keras.layers.Lambda(lambda x: tf.expand_dims(x, axis=1)),\n",
    "    tf.keras.layers.RNN(LTSCell(128), time_major=True, return_sequences=True),\n",
    "    tf.keras.layers.RNN(LTSCell(128), time_major=True, return_sequences=True),\n",
    "    tf.keras.layers.LSTM(128, activation='relu'),\n",
    "    tf.keras.layers.Dense(HORIZON, activation='linear')\n",
    "])"
   ]
  },
  {
   "cell_type": "code",
   "execution_count": 42,
   "id": "2666705e",
   "metadata": {},
   "outputs": [],
   "source": [
    "model_4.compile(\n",
    "    optimizer = tf.keras.optimizers.Adam(learning_rate = .01),\n",
    "    loss = tf.keras.losses.MAE,\n",
    "    metrics = ['mae', 'mse']\n",
    ")"
   ]
  },
  {
   "cell_type": "code",
   "execution_count": 43,
   "id": "6db49b7c",
   "metadata": {},
   "outputs": [
    {
     "name": "stdout",
     "output_type": "stream",
     "text": [
      "Epoch 1/10\n",
      "83/83 [==============================] - 36s 274ms/step - loss: 4009.9414 - mae: 4009.9414 - mse: 34135700.0000\n",
      "Epoch 2/10\n",
      "83/83 [==============================] - 18s 218ms/step - loss: 3893.3445 - mae: 3893.3445 - mse: 32565966.0000\n",
      "Epoch 3/10\n",
      "83/83 [==============================] - 18s 214ms/step - loss: 3888.0906 - mae: 3888.0906 - mse: 30409908.0000\n",
      "Epoch 4/10\n",
      "83/83 [==============================] - 18s 215ms/step - loss: 3884.8523 - mae: 3884.8523 - mse: 28430382.0000\n",
      "Epoch 5/10\n",
      "83/83 [==============================] - 18s 213ms/step - loss: 3890.0063 - mae: 3890.0063 - mse: 30857058.0000\n",
      "Epoch 6/10\n",
      "83/83 [==============================] - 18s 215ms/step - loss: 3886.7402 - mae: 3886.7402 - mse: 30942880.0000\n",
      "Epoch 7/10\n",
      "83/83 [==============================] - 18s 222ms/step - loss: 3888.2368 - mae: 3888.2368 - mse: 28527480.0000\n",
      "Epoch 8/10\n",
      "83/83 [==============================] - 18s 213ms/step - loss: 3891.5120 - mae: 3891.5120 - mse: 32891158.0000\n",
      "Epoch 9/10\n",
      "83/83 [==============================] - 18s 215ms/step - loss: 3891.8335 - mae: 3891.8335 - mse: 32143486.0000\n",
      "Epoch 10/10\n",
      "83/83 [==============================] - 18s 214ms/step - loss: 3898.8528 - mae: 3898.8528 - mse: 30118692.0000\n"
     ]
    }
   ],
   "source": [
    "history_4 = model_4.fit(\n",
    "    train_windows,\n",
    "    train_labels,\n",
    "    epochs=10,\n",
    ")"
   ]
  },
  {
   "cell_type": "markdown",
   "id": "472408fb",
   "metadata": {},
   "source": [
    "Seems like more LTC cells do not make a difference"
   ]
  },
  {
   "attachments": {},
   "cell_type": "markdown",
   "id": "94577949",
   "metadata": {},
   "source": [
    "**Model 4 - LTS, Two LSTM layers**"
   ]
  },
  {
   "cell_type": "code",
   "execution_count": 44,
   "id": "5e2081e8",
   "metadata": {},
   "outputs": [],
   "source": [
    "model_5 = tf.keras.Sequential([\n",
    "    tf.keras.layers.Input(shape=(WINDOW_SIZE)),\n",
    "    tf.keras.layers.Lambda(lambda x: tf.expand_dims(x, axis=1)),\n",
    "    tf.keras.layers.RNN(LTSCell(128), time_major=True, return_sequences=True),\n",
    "    tf.keras.layers.LSTM(128, activation='relu', time_major=True, return_sequences=True),\n",
    "    tf.keras.layers.LSTM(128, activation='relu'),\n",
    "    tf.keras.layers.Dense(HORIZON, activation='linear')\n",
    "])"
   ]
  },
  {
   "cell_type": "code",
   "execution_count": 45,
   "id": "c0187aaa",
   "metadata": {},
   "outputs": [],
   "source": [
    "model_5.compile(\n",
    "    optimizer = tf.keras.optimizers.Adam(learning_rate = .01),\n",
    "    loss = tf.keras.losses.MAE,\n",
    "    metrics = ['mae', 'mse']\n",
    ")"
   ]
  },
  {
   "cell_type": "code",
   "execution_count": 46,
   "id": "ce50778d",
   "metadata": {},
   "outputs": [
    {
     "name": "stdout",
     "output_type": "stream",
     "text": [
      "Epoch 1/10\n",
      "83/83 [==============================] - 18s 113ms/step - loss: 5180.6592 - mae: 5180.6592 - mse: 360904064.0000\n",
      "Epoch 2/10\n",
      "83/83 [==============================] - 9s 112ms/step - loss: 4230.2700 - mae: 4230.2700 - mse: 40868064.0000\n",
      "Epoch 3/10\n",
      "83/83 [==============================] - 9s 115ms/step - loss: 4019.8645 - mae: 4019.8645 - mse: 35986044.0000\n",
      "Epoch 4/10\n",
      "83/83 [==============================] - 11s 129ms/step - loss: 3926.8398 - mae: 3926.8398 - mse: 34356900.0000\n",
      "Epoch 5/10\n",
      "83/83 [==============================] - 10s 121ms/step - loss: 3920.2937 - mae: 3920.2937 - mse: 32970250.0000\n",
      "Epoch 6/10\n",
      "83/83 [==============================] - 10s 115ms/step - loss: 3899.7246 - mae: 3899.7246 - mse: 31049208.0000\n",
      "Epoch 7/10\n",
      "83/83 [==============================] - 10s 117ms/step - loss: 3899.9729 - mae: 3899.9729 - mse: 33573732.0000\n",
      "Epoch 8/10\n",
      "83/83 [==============================] - 10s 115ms/step - loss: 3896.9729 - mae: 3896.9729 - mse: 29563204.0000\n",
      "Epoch 9/10\n",
      "83/83 [==============================] - 10s 115ms/step - loss: 3903.6147 - mae: 3903.6147 - mse: 32524350.0000\n",
      "Epoch 10/10\n",
      "83/83 [==============================] - 10s 122ms/step - loss: 3890.1138 - mae: 3890.1138 - mse: 32594174.0000\n"
     ]
    }
   ],
   "source": [
    "history_5 = model_5.fit(\n",
    "    train_windows,\n",
    "    train_labels,\n",
    "    epochs=10,\n",
    ")"
   ]
  },
  {
   "cell_type": "markdown",
   "id": "fd7d73df",
   "metadata": {},
   "source": [
    "More LSTM layers do not make a difference either"
   ]
  },
  {
   "attachments": {},
   "cell_type": "markdown",
   "id": "2a44f074",
   "metadata": {},
   "source": [
    "**Model 5 - Two LTS layers, Two LSTM layers**"
   ]
  },
  {
   "cell_type": "code",
   "execution_count": 47,
   "id": "0839dd65",
   "metadata": {},
   "outputs": [],
   "source": [
    "model_6 = tf.keras.Sequential([\n",
    "    tf.keras.layers.Input(shape=(WINDOW_SIZE)),\n",
    "    tf.keras.layers.Lambda(lambda x: tf.expand_dims(x, axis=1)),\n",
    "    tf.keras.layers.RNN(LTSCell(128), time_major=True, return_sequences=True),\n",
    "    tf.keras.layers.RNN(LTSCell(128), time_major=True, return_sequences=True),\n",
    "    tf.keras.layers.LSTM(128, activation='relu', time_major=True, return_sequences=True),\n",
    "    tf.keras.layers.LSTM(128, activation='relu'),\n",
    "    tf.keras.layers.Dense(HORIZON, activation='linear')\n",
    "])"
   ]
  },
  {
   "cell_type": "code",
   "execution_count": 48,
   "id": "42777e90",
   "metadata": {},
   "outputs": [],
   "source": [
    "model_6.compile(\n",
    "    optimizer = tf.keras.optimizers.Adam(learning_rate = .01),\n",
    "    loss = tf.keras.losses.MAE,\n",
    "    metrics = ['mae', 'mse']\n",
    ")"
   ]
  },
  {
   "cell_type": "code",
   "execution_count": 49,
   "id": "cd583a98",
   "metadata": {},
   "outputs": [
    {
     "name": "stdout",
     "output_type": "stream",
     "text": [
      "Epoch 1/10\n",
      "83/83 [==============================] - 33s 233ms/step - loss: 5846.9629 - mae: 5846.9629 - mse: 505566240.0000\n",
      "Epoch 2/10\n",
      "83/83 [==============================] - 18s 222ms/step - loss: 4698.0308 - mae: 4698.0308 - mse: 205116160.0000\n",
      "Epoch 3/10\n",
      "83/83 [==============================] - 19s 224ms/step - loss: 4638.6548 - mae: 4638.6548 - mse: 65713860.0000\n",
      "Epoch 4/10\n",
      "83/83 [==============================] - 20s 237ms/step - loss: 4103.3467 - mae: 4103.3467 - mse: 37764920.0000\n",
      "Epoch 5/10\n",
      "83/83 [==============================] - 20s 237ms/step - loss: 4125.0063 - mae: 4125.0063 - mse: 38572448.0000\n",
      "Epoch 6/10\n",
      "83/83 [==============================] - 19s 226ms/step - loss: 4011.9453 - mae: 4011.9453 - mse: 36266252.0000\n",
      "Epoch 7/10\n",
      "83/83 [==============================] - 18s 221ms/step - loss: 3994.3425 - mae: 3994.3425 - mse: 35959420.0000\n",
      "Epoch 8/10\n",
      "83/83 [==============================] - 19s 231ms/step - loss: 3927.7908 - mae: 3927.7908 - mse: 32880758.0000\n",
      "Epoch 9/10\n",
      "83/83 [==============================] - 20s 236ms/step - loss: 3909.2239 - mae: 3909.2239 - mse: 33311376.0000\n",
      "Epoch 10/10\n",
      "83/83 [==============================] - 18s 221ms/step - loss: 3901.2561 - mae: 3901.2561 - mse: 32431908.0000\n"
     ]
    }
   ],
   "source": [
    "history_6 = model_6.fit(\n",
    "    train_windows,\n",
    "    train_labels,\n",
    "    epochs=10,\n",
    ")"
   ]
  },
  {
   "cell_type": "markdown",
   "id": "9c005ee9",
   "metadata": {},
   "source": [
    "More  of both layers do not make a difference either - return to base"
   ]
  },
  {
   "cell_type": "markdown",
   "id": "e6d92723",
   "metadata": {},
   "source": [
    "### Tune hyperparameters\n",
    "\n",
    "Epochs and learning rate can be tuned by keras callbacks. Therefore, only batch size, optimization function, and hidden units are required to tune"
   ]
  },
  {
   "cell_type": "markdown",
   "id": "76d52892",
   "metadata": {},
   "source": [
    "**Update hidden units (multiples of 32 are preferred)**"
   ]
  },
  {
   "cell_type": "code",
   "execution_count": 59,
   "id": "176bc013",
   "metadata": {},
   "outputs": [],
   "source": [
    "model_7 = tf.keras.Sequential([\n",
    "    tf.keras.layers.Input(shape=(WINDOW_SIZE)),\n",
    "    tf.keras.layers.Lambda(lambda x: tf.expand_dims(x, axis=1)),\n",
    "    tf.keras.layers.RNN(LTSCell(32), time_major=True, return_sequences=True),\n",
    "    tf.keras.layers.LSTM(32, activation='relu'),\n",
    "    tf.keras.layers.Dense(HORIZON, activation='linear')\n",
    "])"
   ]
  },
  {
   "cell_type": "code",
   "execution_count": 60,
   "id": "d8251252",
   "metadata": {},
   "outputs": [],
   "source": [
    "model_7.compile(\n",
    "    optimizer = tf.keras.optimizers.Adam(learning_rate = .01),\n",
    "    loss = tf.keras.losses.MAE,\n",
    "    metrics = ['mae', 'mse']\n",
    ")"
   ]
  },
  {
   "cell_type": "code",
   "execution_count": 61,
   "id": "3b4b66f7",
   "metadata": {},
   "outputs": [
    {
     "name": "stdout",
     "output_type": "stream",
     "text": [
      "Epoch 1/10\n",
      "83/83 [==============================] - 13s 58ms/step - loss: 4224.1118 - mae: 4224.1118 - mse: 40617880.0000\n",
      "Epoch 2/10\n",
      "83/83 [==============================] - 5s 59ms/step - loss: 3896.9988 - mae: 3896.9988 - mse: 32355542.0000\n",
      "Epoch 3/10\n",
      "83/83 [==============================] - 5s 58ms/step - loss: 3868.4753 - mae: 3868.4753 - mse: 29847568.0000\n",
      "Epoch 4/10\n",
      "83/83 [==============================] - 5s 56ms/step - loss: 3895.0820 - mae: 3895.0820 - mse: 34043076.0000\n",
      "Epoch 5/10\n",
      "83/83 [==============================] - 5s 56ms/step - loss: 3896.3674 - mae: 3896.3674 - mse: 30391228.0000\n",
      "Epoch 6/10\n",
      "83/83 [==============================] - 5s 56ms/step - loss: 3891.5137 - mae: 3891.5137 - mse: 32587410.0000\n",
      "Epoch 7/10\n",
      "83/83 [==============================] - 5s 57ms/step - loss: 3887.9116 - mae: 3887.9116 - mse: 30818276.0000\n",
      "Epoch 8/10\n",
      "83/83 [==============================] - 5s 56ms/step - loss: 3887.3694 - mae: 3887.3694 - mse: 31876788.0000\n",
      "Epoch 9/10\n",
      "83/83 [==============================] - 5s 59ms/step - loss: 3890.2361 - mae: 3890.2361 - mse: 29963236.0000\n",
      "Epoch 10/10\n",
      "83/83 [==============================] - 5s 64ms/step - loss: 3890.6362 - mae: 3890.6362 - mse: 33269162.0000\n"
     ]
    }
   ],
   "source": [
    "history_7 = model_7.fit(\n",
    "    train_windows,\n",
    "    train_labels,\n",
    "    epochs=10,\n",
    ")"
   ]
  },
  {
   "cell_type": "markdown",
   "id": "26f4908b",
   "metadata": {},
   "source": [
    "128 and 32 is very similar - moving forward with 32 as it trains faster"
   ]
  },
  {
   "cell_type": "markdown",
   "id": "d396f6ed",
   "metadata": {},
   "source": [
    "**Update batch size**"
   ]
  },
  {
   "cell_type": "code",
   "execution_count": 62,
   "id": "690b1e19",
   "metadata": {},
   "outputs": [],
   "source": [
    "model_8 = tf.keras.Sequential([\n",
    "    tf.keras.layers.Input(shape=(WINDOW_SIZE)),\n",
    "    tf.keras.layers.Lambda(lambda x: tf.expand_dims(x, axis=1)),\n",
    "    tf.keras.layers.RNN(LTSCell(32), time_major=True, return_sequences=True),\n",
    "    tf.keras.layers.LSTM(32, activation='relu'),\n",
    "    tf.keras.layers.Dense(HORIZON, activation='linear')\n",
    "])"
   ]
  },
  {
   "cell_type": "code",
   "execution_count": 63,
   "id": "c81e3b39",
   "metadata": {},
   "outputs": [],
   "source": [
    "model_8.compile(\n",
    "    optimizer = tf.keras.optimizers.Adam(learning_rate = .01),\n",
    "    loss = tf.keras.losses.MAE,\n",
    "    metrics = ['mae', 'mse']\n",
    ")"
   ]
  },
  {
   "cell_type": "code",
   "execution_count": 64,
   "id": "da5ecf0d",
   "metadata": {},
   "outputs": [
    {
     "name": "stdout",
     "output_type": "stream",
     "text": [
      "Epoch 1/10\n",
      "21/21 [==============================] - 20s 228ms/step - loss: 4415.4756 - mae: 4415.4756 - mse: 43638328.0000\n",
      "Epoch 2/10\n",
      "21/21 [==============================] - 4s 210ms/step - loss: 4337.7793 - mae: 4337.7793 - mse: 42962548.0000\n",
      "Epoch 3/10\n",
      "21/21 [==============================] - 4s 207ms/step - loss: nan - mae: nan - mse: nan        \n",
      "Epoch 4/10\n",
      "21/21 [==============================] - 4s 207ms/step - loss: nan - mae: nan - mse: nan\n",
      "Epoch 5/10\n",
      "21/21 [==============================] - 4s 193ms/step - loss: nan - mae: nan - mse: nan\n",
      "Epoch 6/10\n",
      "21/21 [==============================] - 5s 220ms/step - loss: nan - mae: nan - mse: nan\n",
      "Epoch 7/10\n",
      "21/21 [==============================] - 5s 222ms/step - loss: nan - mae: nan - mse: nan\n",
      "Epoch 8/10\n",
      "21/21 [==============================] - 4s 211ms/step - loss: nan - mae: nan - mse: nan\n",
      "Epoch 9/10\n",
      "21/21 [==============================] - 4s 198ms/step - loss: nan - mae: nan - mse: nan\n",
      "Epoch 10/10\n",
      "21/21 [==============================] - 4s 204ms/step - loss: nan - mae: nan - mse: nan\n"
     ]
    }
   ],
   "source": [
    "history_8 = model_8.fit(\n",
    "    train_windows,\n",
    "    train_labels,\n",
    "    batch_size=128,\n",
    "    epochs=10,\n",
    ")"
   ]
  },
  {
   "cell_type": "markdown",
   "id": "43e430ea",
   "metadata": {},
   "source": [
    "Issues with batch size 128, default 32 is better"
   ]
  },
  {
   "cell_type": "markdown",
   "id": "7e825e99",
   "metadata": {},
   "source": [
    "**Update window size**"
   ]
  },
  {
   "cell_type": "code",
   "execution_count": 49,
   "id": "d38ce0d5",
   "metadata": {},
   "outputs": [],
   "source": [
    "HORIZON = 1\n",
    "WINDOW_SIZE = 30"
   ]
  },
  {
   "cell_type": "code",
   "execution_count": 50,
   "id": "5c7aca0c",
   "metadata": {},
   "outputs": [
    {
     "data": {
      "text/plain": [
       "(2680, 671, 2680, 671)"
      ]
     },
     "execution_count": 50,
     "metadata": {},
     "output_type": "execute_result"
    }
   ],
   "source": [
    "full_windows, full_labels = make_windows(prices, WINDOW_SIZE, HORIZON)\n",
    "train_windows, test_windows, train_labels, test_labels = make_train_test_splits(full_windows, full_labels)\n",
    "len(train_windows), len(test_windows), len(train_labels), len(test_labels)"
   ]
  },
  {
   "cell_type": "code",
   "execution_count": 51,
   "id": "f097793e",
   "metadata": {},
   "outputs": [],
   "source": [
    "model_9 = tf.keras.Sequential([\n",
    "    tf.keras.layers.Input(shape=(WINDOW_SIZE)),\n",
    "    tf.keras.layers.Lambda(lambda x: tf.expand_dims(x, axis=1)),\n",
    "    tf.keras.layers.RNN(LTSCell(32), time_major=True, return_sequences=True),\n",
    "    tf.keras.layers.LSTM(32, activation='relu'),\n",
    "    tf.keras.layers.Dense(HORIZON, activation='linear')\n",
    "])"
   ]
  },
  {
   "cell_type": "code",
   "execution_count": 52,
   "id": "438e1a7a",
   "metadata": {},
   "outputs": [],
   "source": [
    "model_9.compile(\n",
    "    optimizer = tf.keras.optimizers.Adam(learning_rate = .01),\n",
    "    loss = tf.keras.losses.MAE,\n",
    "    metrics = ['mae', 'mse']\n",
    ")"
   ]
  },
  {
   "cell_type": "code",
   "execution_count": 53,
   "id": "cd2bc27b",
   "metadata": {
    "scrolled": false
   },
   "outputs": [
    {
     "name": "stdout",
     "output_type": "stream",
     "text": [
      "Epoch 1/10\n",
      "84/84 [==============================] - 12s 56ms/step - loss: 4994.0220 - mae: 4994.0220 - mse: 74743080.0000\n",
      "Epoch 2/10\n",
      "84/84 [==============================] - 5s 56ms/step - loss: 4632.9243 - mae: 4632.9243 - mse: 60828820.0000\n",
      "Epoch 3/10\n",
      "84/84 [==============================] - 5s 55ms/step - loss: 4623.9263 - mae: 4623.9263 - mse: 60410628.0000\n",
      "Epoch 4/10\n",
      "84/84 [==============================] - 5s 61ms/step - loss: 4637.5337 - mae: 4637.5337 - mse: 59740820.0000\n",
      "Epoch 5/10\n",
      "84/84 [==============================] - 5s 57ms/step - loss: 4633.1724 - mae: 4633.1724 - mse: 61724464.0000\n",
      "Epoch 6/10\n",
      "84/84 [==============================] - 5s 56ms/step - loss: 4622.2690 - mae: 4622.2690 - mse: 60010080.0000\n",
      "Epoch 7/10\n",
      "84/84 [==============================] - 5s 58ms/step - loss: 4635.4961 - mae: 4635.4961 - mse: 60839452.0000\n",
      "Epoch 8/10\n",
      "84/84 [==============================] - 5s 55ms/step - loss: 4624.0151 - mae: 4624.0151 - mse: 58873680.0000\n",
      "Epoch 9/10\n",
      "84/84 [==============================] - 5s 57ms/step - loss: 4623.7148 - mae: 4623.7148 - mse: 62052088.0000\n",
      "Epoch 10/10\n",
      "84/84 [==============================] - 5s 62ms/step - loss: 4622.7373 - mae: 4622.7373 - mse: 58343204.0000\n"
     ]
    }
   ],
   "source": [
    "history_9 = model_9.fit(\n",
    "    train_windows,\n",
    "    train_labels,\n",
    "    epochs=10,\n",
    ")"
   ]
  },
  {
   "cell_type": "markdown",
   "id": "ef87f97a",
   "metadata": {},
   "source": [
    "Window size of 7 is better"
   ]
  },
  {
   "cell_type": "markdown",
   "id": "9d7c9c8c",
   "metadata": {},
   "source": [
    "### Complete training"
   ]
  },
  {
   "cell_type": "markdown",
   "id": "c25830cf",
   "metadata": {},
   "source": [
    "**Create callback functions**"
   ]
  },
  {
   "cell_type": "code",
   "execution_count": 54,
   "id": "f66c8a13",
   "metadata": {},
   "outputs": [],
   "source": [
    "# Model checkpoint with a specific filename\n",
    "def create_model_checkpoint(model_name, save_path='model_checkpoints', monitor_dataset_loss=False):\n",
    "    return tf.keras.callbacks.ModelCheckpoint(\n",
    "        filepath=os.path.join(save_path, model_name),\n",
    "        verbose=0,\n",
    "        save_best_only=True,\n",
    "        monitor='loss' if monitor_dataset_loss else 'val_loss',\n",
    "    )\n",
    "\n",
    "# Create a tensorboard callback\n",
    "def create_tensorboard_callback(dir_name, experiment_name):\n",
    "    log_dir = dir_name + '/' + experiment_name + '/' + datetime.datetime.now().strftime('%Y%m%d-%H%M%S')\n",
    "    tensorboard_callback = tf.keras.callbacks.TensorBoard(\n",
    "      log_dir=log_dir\n",
    "    )\n",
    "\n",
    "    print(f'Saving TensorBoard log files to: {log_dir}')\n",
    "    return tensorboard_callback\n",
    "\n",
    "# Create early stopping callback\n",
    "early_stopping = tf.keras.callbacks.EarlyStopping(\n",
    "    patience=200,\n",
    "    restore_best_weights=True\n",
    ")\n",
    "\n",
    "# create reduce lr on plateau callback\n",
    "reduce_lr_plateau = tf.keras.callbacks.ReduceLROnPlateau(\n",
    "    patience=100,\n",
    "    verbose=1\n",
    ")"
   ]
  },
  {
   "cell_type": "code",
   "execution_count": 55,
   "id": "c1d606ac",
   "metadata": {},
   "outputs": [],
   "source": [
    "HORIZON = 1\n",
    "WINDOW_SIZE = 7"
   ]
  },
  {
   "cell_type": "code",
   "execution_count": 56,
   "id": "75b67110",
   "metadata": {},
   "outputs": [
    {
     "data": {
      "text/plain": [
       "(2699, 675, 2699, 675)"
      ]
     },
     "execution_count": 56,
     "metadata": {},
     "output_type": "execute_result"
    }
   ],
   "source": [
    "full_windows, full_labels = make_windows(prices, WINDOW_SIZE, HORIZON)\n",
    "train_windows, test_windows, train_labels, test_labels = make_train_test_splits(full_windows, full_labels)\n",
    "len(train_windows), len(test_windows), len(train_labels), len(test_labels)"
   ]
  },
  {
   "cell_type": "code",
   "execution_count": 57,
   "id": "52aa8607",
   "metadata": {},
   "outputs": [],
   "source": [
    "model_10 = tf.keras.Sequential([\n",
    "    tf.keras.layers.Input(shape=(WINDOW_SIZE)),\n",
    "    tf.keras.layers.Lambda(lambda x: tf.expand_dims(x, axis=1)),\n",
    "    tf.keras.layers.RNN(LTSCell(32), time_major=True, return_sequences=True),\n",
    "    tf.keras.layers.LSTM(32, activation='relu'),\n",
    "    tf.keras.layers.Dense(HORIZON, activation='linear')\n",
    "], name='model_10')"
   ]
  },
  {
   "cell_type": "code",
   "execution_count": 58,
   "id": "91d7d1d7",
   "metadata": {},
   "outputs": [],
   "source": [
    "model_10.compile(\n",
    "    optimizer = tf.keras.optimizers.Adam(learning_rate = .01),\n",
    "    loss = tf.keras.losses.MAE,\n",
    "    metrics = ['mae', 'mse']\n",
    ")"
   ]
  },
  {
   "cell_type": "code",
   "execution_count": null,
   "id": "a60ea72d",
   "metadata": {},
   "outputs": [],
   "source": [
    "history_10 = model_10.fit(\n",
    "    train_windows,\n",
    "    train_labels,\n",
    "    epochs=5000,\n",
    "    callbacks=[\n",
    "        create_model_checkpoint(model_name=model_10.name),\n",
    "        create_tensorboard_callback(\n",
    "            dir_name='tensorboard_logs/tensorboard_logs_model_10',\n",
    "            experiment_name='model_10'\n",
    "        ),\n",
    "        early_stopping,\n",
    "        reduce_lr_plateau,\n",
    "        \n",
    "    ]\n",
    ")"
   ]
  }
 ],
 "metadata": {
  "kernelspec": {
   "display_name": "Python 3 (ipykernel)",
   "language": "python",
   "name": "python3"
  },
  "language_info": {
   "codemirror_mode": {
    "name": "ipython",
    "version": 3
   },
   "file_extension": ".py",
   "mimetype": "text/x-python",
   "name": "python",
   "nbconvert_exporter": "python",
   "pygments_lexer": "ipython3",
   "version": "3.7.4"
  },
  "vscode": {
   "interpreter": {
    "hash": "ed21d5474e4d34402bc17b7e6678523875881abed00fabc0c331683181e10ba6"
   }
  }
 },
 "nbformat": 4,
 "nbformat_minor": 5
}
