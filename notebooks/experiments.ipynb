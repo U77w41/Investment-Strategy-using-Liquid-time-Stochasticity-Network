{
 "cells": [
  {
   "cell_type": "code",
   "execution_count": 36,
   "id": "3bd1578e",
   "metadata": {},
   "outputs": [],
   "source": [
    "import numpy as np\n",
    "import pandas as pd\n",
    "import matplotlib.pyplot as plt\n",
    "import tensorflow as tf\n",
    "import requests\n",
    "import os\n",
    "import sys\n",
    "import pathlib\n",
    "HERE = pathlib.Path(os.getcwd()).parent.resolve()\n",
    "sys.path.append(str(HERE/\"src\"))\n",
    "from lts import LTSCell"
   ]
  },
  {
   "cell_type": "code",
   "execution_count": 37,
   "id": "c9ba0f99",
   "metadata": {},
   "outputs": [],
   "source": [
    "url = 'http://api.scraperlink.com/investpy/?email=your@email.com&type=historical_data&product=cryptos&symbol=BTC&from_date=10/01/2013&to_date=2/1/2024'\n",
    "response = requests.request('GET', url)\n",
    "prices = response.json()['data']\n",
    "data = pd.DataFrame(prices)"
   ]
  },
  {
   "cell_type": "code",
   "execution_count": 38,
   "id": "9d9f6cdd",
   "metadata": {},
   "outputs": [
    {
     "data": {
      "text/html": [
       "<div>\n",
       "<style scoped>\n",
       "    .dataframe tbody tr th:only-of-type {\n",
       "        vertical-align: middle;\n",
       "    }\n",
       "\n",
       "    .dataframe tbody tr th {\n",
       "        vertical-align: top;\n",
       "    }\n",
       "\n",
       "    .dataframe thead th {\n",
       "        text-align: right;\n",
       "    }\n",
       "</style>\n",
       "<table border=\"1\" class=\"dataframe\">\n",
       "  <thead>\n",
       "    <tr style=\"text-align: right;\">\n",
       "      <th></th>\n",
       "      <th>direction_color</th>\n",
       "      <th>rowDate</th>\n",
       "      <th>rowDateRaw</th>\n",
       "      <th>rowDateTimestamp</th>\n",
       "      <th>last_close</th>\n",
       "      <th>last_open</th>\n",
       "      <th>last_max</th>\n",
       "      <th>last_min</th>\n",
       "      <th>volume</th>\n",
       "      <th>volumeRaw</th>\n",
       "      <th>change_precent</th>\n",
       "      <th>last_closeRaw</th>\n",
       "      <th>last_openRaw</th>\n",
       "      <th>last_maxRaw</th>\n",
       "      <th>last_minRaw</th>\n",
       "      <th>change_precentRaw</th>\n",
       "    </tr>\n",
       "  </thead>\n",
       "  <tbody>\n",
       "    <tr>\n",
       "      <th>0</th>\n",
       "      <td>redFont</td>\n",
       "      <td>Jan 10, 2024</td>\n",
       "      <td>1704844800</td>\n",
       "      <td>2024-01-10T00:00:00Z</td>\n",
       "      <td>45,953.5</td>\n",
       "      <td>46,112.0</td>\n",
       "      <td>46,244.5</td>\n",
       "      <td>45,642.1</td>\n",
       "      <td>96.39K</td>\n",
       "      <td>96389</td>\n",
       "      <td>-0.38</td>\n",
       "      <td>45953.52734375000000</td>\n",
       "      <td>46111.98046875000000</td>\n",
       "      <td>46244.49609375000000</td>\n",
       "      <td>45642.14453125000000</td>\n",
       "      <td>-0.380336</td>\n",
       "    </tr>\n",
       "    <tr>\n",
       "      <th>1</th>\n",
       "      <td>redFont</td>\n",
       "      <td>Jan 09, 2024</td>\n",
       "      <td>1704758400</td>\n",
       "      <td>2024-01-09T00:00:00Z</td>\n",
       "      <td>46,129.0</td>\n",
       "      <td>46,959.2</td>\n",
       "      <td>47,880.1</td>\n",
       "      <td>45,333.9</td>\n",
       "      <td>100.09K</td>\n",
       "      <td>100093</td>\n",
       "      <td>-1.77</td>\n",
       "      <td>46128.97265625000000</td>\n",
       "      <td>46959.17578125000000</td>\n",
       "      <td>47880.05468750000000</td>\n",
       "      <td>45333.91406250000000</td>\n",
       "      <td>-1.774282</td>\n",
       "    </tr>\n",
       "    <tr>\n",
       "      <th>2</th>\n",
       "      <td>greenFont</td>\n",
       "      <td>Jan 08, 2024</td>\n",
       "      <td>1704672000</td>\n",
       "      <td>2024-01-08T00:00:00Z</td>\n",
       "      <td>46,962.2</td>\n",
       "      <td>43,934.2</td>\n",
       "      <td>47,196.7</td>\n",
       "      <td>43,251.0</td>\n",
       "      <td>103.09K</td>\n",
       "      <td>103085</td>\n",
       "      <td>6.91</td>\n",
       "      <td>46962.21484375000000</td>\n",
       "      <td>43934.17968750000000</td>\n",
       "      <td>47196.66796875000000</td>\n",
       "      <td>43251.02343750000000</td>\n",
       "      <td>6.908928</td>\n",
       "    </tr>\n",
       "    <tr>\n",
       "      <th>3</th>\n",
       "      <td>redFont</td>\n",
       "      <td>Jan 07, 2024</td>\n",
       "      <td>1704585600</td>\n",
       "      <td>2024-01-07T00:00:00Z</td>\n",
       "      <td>43,927.3</td>\n",
       "      <td>43,973.5</td>\n",
       "      <td>44,481.2</td>\n",
       "      <td>43,627.9</td>\n",
       "      <td>29.53K</td>\n",
       "      <td>29525</td>\n",
       "      <td>-0.09</td>\n",
       "      <td>43927.30859375000000</td>\n",
       "      <td>43973.49218750000000</td>\n",
       "      <td>44481.15625000000000</td>\n",
       "      <td>43627.85937500000000</td>\n",
       "      <td>-0.092246</td>\n",
       "    </tr>\n",
       "    <tr>\n",
       "      <th>4</th>\n",
       "      <td>redFont</td>\n",
       "      <td>Jan 06, 2024</td>\n",
       "      <td>1704499200</td>\n",
       "      <td>2024-01-06T00:00:00Z</td>\n",
       "      <td>43,967.9</td>\n",
       "      <td>44,156.6</td>\n",
       "      <td>44,203.2</td>\n",
       "      <td>43,424.0</td>\n",
       "      <td>24.26K</td>\n",
       "      <td>24257</td>\n",
       "      <td>-0.43</td>\n",
       "      <td>43967.86718750000000</td>\n",
       "      <td>44156.64062500000000</td>\n",
       "      <td>44203.21875000000000</td>\n",
       "      <td>43424.03906250000000</td>\n",
       "      <td>-0.428037</td>\n",
       "    </tr>\n",
       "  </tbody>\n",
       "</table>\n",
       "</div>"
      ],
      "text/plain": [
       "  direction_color       rowDate  rowDateRaw      rowDateTimestamp last_close  \\\n",
       "0         redFont  Jan 10, 2024  1704844800  2024-01-10T00:00:00Z   45,953.5   \n",
       "1         redFont  Jan 09, 2024  1704758400  2024-01-09T00:00:00Z   46,129.0   \n",
       "2       greenFont  Jan 08, 2024  1704672000  2024-01-08T00:00:00Z   46,962.2   \n",
       "3         redFont  Jan 07, 2024  1704585600  2024-01-07T00:00:00Z   43,927.3   \n",
       "4         redFont  Jan 06, 2024  1704499200  2024-01-06T00:00:00Z   43,967.9   \n",
       "\n",
       "  last_open  last_max  last_min   volume  volumeRaw change_precent  \\\n",
       "0  46,112.0  46,244.5  45,642.1   96.39K      96389          -0.38   \n",
       "1  46,959.2  47,880.1  45,333.9  100.09K     100093          -1.77   \n",
       "2  43,934.2  47,196.7  43,251.0  103.09K     103085           6.91   \n",
       "3  43,973.5  44,481.2  43,627.9   29.53K      29525          -0.09   \n",
       "4  44,156.6  44,203.2  43,424.0   24.26K      24257          -0.43   \n",
       "\n",
       "          last_closeRaw          last_openRaw           last_maxRaw  \\\n",
       "0  45953.52734375000000  46111.98046875000000  46244.49609375000000   \n",
       "1  46128.97265625000000  46959.17578125000000  47880.05468750000000   \n",
       "2  46962.21484375000000  43934.17968750000000  47196.66796875000000   \n",
       "3  43927.30859375000000  43973.49218750000000  44481.15625000000000   \n",
       "4  43967.86718750000000  44156.64062500000000  44203.21875000000000   \n",
       "\n",
       "            last_minRaw  change_precentRaw  \n",
       "0  45642.14453125000000          -0.380336  \n",
       "1  45333.91406250000000          -1.774282  \n",
       "2  43251.02343750000000           6.908928  \n",
       "3  43627.85937500000000          -0.092246  \n",
       "4  43424.03906250000000          -0.428037  "
      ]
     },
     "execution_count": 38,
     "metadata": {},
     "output_type": "execute_result"
    }
   ],
   "source": [
    "data.head()"
   ]
  },
  {
   "cell_type": "code",
   "execution_count": 39,
   "id": "5643aa5d",
   "metadata": {},
   "outputs": [
    {
     "data": {
      "text/html": [
       "<div>\n",
       "<style scoped>\n",
       "    .dataframe tbody tr th:only-of-type {\n",
       "        vertical-align: middle;\n",
       "    }\n",
       "\n",
       "    .dataframe tbody tr th {\n",
       "        vertical-align: top;\n",
       "    }\n",
       "\n",
       "    .dataframe thead th {\n",
       "        text-align: right;\n",
       "    }\n",
       "</style>\n",
       "<table border=\"1\" class=\"dataframe\">\n",
       "  <thead>\n",
       "    <tr style=\"text-align: right;\">\n",
       "      <th></th>\n",
       "      <th>rowDate</th>\n",
       "      <th>last_closeRaw</th>\n",
       "      <th>last_openRaw</th>\n",
       "      <th>last_maxRaw</th>\n",
       "      <th>last_minRaw</th>\n",
       "    </tr>\n",
       "  </thead>\n",
       "  <tbody>\n",
       "    <tr>\n",
       "      <th>0</th>\n",
       "      <td>Jan 10, 2024</td>\n",
       "      <td>45953.52734375000000</td>\n",
       "      <td>46111.98046875000000</td>\n",
       "      <td>46244.49609375000000</td>\n",
       "      <td>45642.14453125000000</td>\n",
       "    </tr>\n",
       "    <tr>\n",
       "      <th>1</th>\n",
       "      <td>Jan 09, 2024</td>\n",
       "      <td>46128.97265625000000</td>\n",
       "      <td>46959.17578125000000</td>\n",
       "      <td>47880.05468750000000</td>\n",
       "      <td>45333.91406250000000</td>\n",
       "    </tr>\n",
       "    <tr>\n",
       "      <th>2</th>\n",
       "      <td>Jan 08, 2024</td>\n",
       "      <td>46962.21484375000000</td>\n",
       "      <td>43934.17968750000000</td>\n",
       "      <td>47196.66796875000000</td>\n",
       "      <td>43251.02343750000000</td>\n",
       "    </tr>\n",
       "    <tr>\n",
       "      <th>3</th>\n",
       "      <td>Jan 07, 2024</td>\n",
       "      <td>43927.30859375000000</td>\n",
       "      <td>43973.49218750000000</td>\n",
       "      <td>44481.15625000000000</td>\n",
       "      <td>43627.85937500000000</td>\n",
       "    </tr>\n",
       "    <tr>\n",
       "      <th>4</th>\n",
       "      <td>Jan 06, 2024</td>\n",
       "      <td>43967.86718750000000</td>\n",
       "      <td>44156.64062500000000</td>\n",
       "      <td>44203.21875000000000</td>\n",
       "      <td>43424.03906250000000</td>\n",
       "    </tr>\n",
       "  </tbody>\n",
       "</table>\n",
       "</div>"
      ],
      "text/plain": [
       "        rowDate         last_closeRaw          last_openRaw  \\\n",
       "0  Jan 10, 2024  45953.52734375000000  46111.98046875000000   \n",
       "1  Jan 09, 2024  46128.97265625000000  46959.17578125000000   \n",
       "2  Jan 08, 2024  46962.21484375000000  43934.17968750000000   \n",
       "3  Jan 07, 2024  43927.30859375000000  43973.49218750000000   \n",
       "4  Jan 06, 2024  43967.86718750000000  44156.64062500000000   \n",
       "\n",
       "            last_maxRaw           last_minRaw  \n",
       "0  46244.49609375000000  45642.14453125000000  \n",
       "1  47880.05468750000000  45333.91406250000000  \n",
       "2  47196.66796875000000  43251.02343750000000  \n",
       "3  44481.15625000000000  43627.85937500000000  \n",
       "4  44203.21875000000000  43424.03906250000000  "
      ]
     },
     "execution_count": 39,
     "metadata": {},
     "output_type": "execute_result"
    }
   ],
   "source": [
    "# Remove unnecessary columns\n",
    "data.drop(columns=[\n",
    "  'direction_color',\n",
    "  'rowDateRaw',\n",
    "  'rowDateTimestamp',\n",
    "\n",
    "  # Quantity of btc bought or sold\n",
    "  'volume',\n",
    "  'volumeRaw',\n",
    "  'change_precent',\n",
    "  'change_precentRaw',\n",
    "  'last_close',\n",
    "  'last_open',\n",
    "  'last_max',\n",
    "  'last_min'\n",
    "  ],\n",
    "  inplace=True\n",
    ")\n",
    "\n",
    "data.head()"
   ]
  },
  {
   "cell_type": "code",
   "execution_count": 40,
   "id": "d7c2c5af",
   "metadata": {},
   "outputs": [
    {
     "name": "stdout",
     "output_type": "stream",
     "text": [
      "<class 'pandas.core.frame.DataFrame'>\n",
      "RangeIndex: 3754 entries, 0 to 3753\n",
      "Data columns (total 5 columns):\n",
      " #   Column         Non-Null Count  Dtype \n",
      "---  ------         --------------  ----- \n",
      " 0   rowDate        3754 non-null   object\n",
      " 1   last_closeRaw  3754 non-null   object\n",
      " 2   last_openRaw   3754 non-null   object\n",
      " 3   last_maxRaw    3754 non-null   object\n",
      " 4   last_minRaw    3754 non-null   object\n",
      "dtypes: object(5)\n",
      "memory usage: 146.8+ KB\n"
     ]
    }
   ],
   "source": [
    "data.info()"
   ]
  },
  {
   "cell_type": "code",
   "execution_count": 41,
   "id": "428e484a",
   "metadata": {},
   "outputs": [
    {
     "data": {
      "text/plain": [
       "rowDate          0\n",
       "last_closeRaw    0\n",
       "last_openRaw     0\n",
       "last_maxRaw      0\n",
       "last_minRaw      0\n",
       "dtype: int64"
      ]
     },
     "execution_count": 41,
     "metadata": {},
     "output_type": "execute_result"
    }
   ],
   "source": [
    "data.isnull().sum()"
   ]
  },
  {
   "cell_type": "code",
   "execution_count": 42,
   "id": "fd6defd7",
   "metadata": {},
   "outputs": [],
   "source": [
    "# Convert date object to datetime\n",
    "data['rowDate'] = pd.to_datetime(data['rowDate'])\n",
    "\n",
    "# Convert values to floats\n",
    "data = data.astype({\n",
    "    'last_closeRaw': 'float',\n",
    "    'last_openRaw': 'float',\n",
    "    'last_maxRaw': 'float',\n",
    "    'last_minRaw': 'float'\n",
    "})"
   ]
  },
  {
   "cell_type": "code",
   "execution_count": 43,
   "id": "1eb21dbb",
   "metadata": {},
   "outputs": [
    {
     "name": "stdout",
     "output_type": "stream",
     "text": [
      "<class 'pandas.core.frame.DataFrame'>\n",
      "RangeIndex: 3754 entries, 0 to 3753\n",
      "Data columns (total 5 columns):\n",
      " #   Column         Non-Null Count  Dtype         \n",
      "---  ------         --------------  -----         \n",
      " 0   rowDate        3754 non-null   datetime64[ns]\n",
      " 1   last_closeRaw  3754 non-null   float64       \n",
      " 2   last_openRaw   3754 non-null   float64       \n",
      " 3   last_maxRaw    3754 non-null   float64       \n",
      " 4   last_minRaw    3754 non-null   float64       \n",
      "dtypes: datetime64[ns](1), float64(4)\n",
      "memory usage: 146.8 KB\n"
     ]
    }
   ],
   "source": [
    "data.info()"
   ]
  },
  {
   "cell_type": "code",
   "execution_count": 44,
   "id": "0836bfb3",
   "metadata": {},
   "outputs": [
    {
     "data": {
      "text/html": [
       "<div>\n",
       "<style scoped>\n",
       "    .dataframe tbody tr th:only-of-type {\n",
       "        vertical-align: middle;\n",
       "    }\n",
       "\n",
       "    .dataframe tbody tr th {\n",
       "        vertical-align: top;\n",
       "    }\n",
       "\n",
       "    .dataframe thead th {\n",
       "        text-align: right;\n",
       "    }\n",
       "</style>\n",
       "<table border=\"1\" class=\"dataframe\">\n",
       "  <thead>\n",
       "    <tr style=\"text-align: right;\">\n",
       "      <th></th>\n",
       "      <th>rowDate</th>\n",
       "      <th>last_closeRaw</th>\n",
       "      <th>last_openRaw</th>\n",
       "      <th>last_maxRaw</th>\n",
       "      <th>last_minRaw</th>\n",
       "    </tr>\n",
       "  </thead>\n",
       "  <tbody>\n",
       "    <tr>\n",
       "      <th>0</th>\n",
       "      <td>2024-01-10</td>\n",
       "      <td>45953.527344</td>\n",
       "      <td>46111.980469</td>\n",
       "      <td>46244.496094</td>\n",
       "      <td>45642.144531</td>\n",
       "    </tr>\n",
       "    <tr>\n",
       "      <th>1</th>\n",
       "      <td>2024-01-09</td>\n",
       "      <td>46128.972656</td>\n",
       "      <td>46959.175781</td>\n",
       "      <td>47880.054688</td>\n",
       "      <td>45333.914062</td>\n",
       "    </tr>\n",
       "    <tr>\n",
       "      <th>2</th>\n",
       "      <td>2024-01-08</td>\n",
       "      <td>46962.214844</td>\n",
       "      <td>43934.179688</td>\n",
       "      <td>47196.667969</td>\n",
       "      <td>43251.023438</td>\n",
       "    </tr>\n",
       "    <tr>\n",
       "      <th>3</th>\n",
       "      <td>2024-01-07</td>\n",
       "      <td>43927.308594</td>\n",
       "      <td>43973.492188</td>\n",
       "      <td>44481.156250</td>\n",
       "      <td>43627.859375</td>\n",
       "    </tr>\n",
       "    <tr>\n",
       "      <th>4</th>\n",
       "      <td>2024-01-06</td>\n",
       "      <td>43967.867188</td>\n",
       "      <td>44156.640625</td>\n",
       "      <td>44203.218750</td>\n",
       "      <td>43424.039062</td>\n",
       "    </tr>\n",
       "  </tbody>\n",
       "</table>\n",
       "</div>"
      ],
      "text/plain": [
       "     rowDate  last_closeRaw  last_openRaw   last_maxRaw   last_minRaw\n",
       "0 2024-01-10   45953.527344  46111.980469  46244.496094  45642.144531\n",
       "1 2024-01-09   46128.972656  46959.175781  47880.054688  45333.914062\n",
       "2 2024-01-08   46962.214844  43934.179688  47196.667969  43251.023438\n",
       "3 2024-01-07   43927.308594  43973.492188  44481.156250  43627.859375\n",
       "4 2024-01-06   43967.867188  44156.640625  44203.218750  43424.039062"
      ]
     },
     "execution_count": 44,
     "metadata": {},
     "output_type": "execute_result"
    }
   ],
   "source": [
    "data.head()"
   ]
  },
  {
   "cell_type": "code",
   "execution_count": 45,
   "id": "6a8ec0d6",
   "metadata": {},
   "outputs": [],
   "source": [
    "data.rename(\n",
    "    columns={\n",
    "        'last_closeRaw': 'close',\n",
    "        'last_openRaw': 'open',\n",
    "        'last_maxRaw': 'high',\n",
    "        'last_minRaw': 'low',\n",
    "        'rowDate': 'Date'\n",
    "    },\n",
    "    inplace=True\n",
    ")"
   ]
  },
  {
   "cell_type": "code",
   "execution_count": 46,
   "id": "3533749a",
   "metadata": {},
   "outputs": [
    {
     "data": {
      "text/html": [
       "<div>\n",
       "<style scoped>\n",
       "    .dataframe tbody tr th:only-of-type {\n",
       "        vertical-align: middle;\n",
       "    }\n",
       "\n",
       "    .dataframe tbody tr th {\n",
       "        vertical-align: top;\n",
       "    }\n",
       "\n",
       "    .dataframe thead th {\n",
       "        text-align: right;\n",
       "    }\n",
       "</style>\n",
       "<table border=\"1\" class=\"dataframe\">\n",
       "  <thead>\n",
       "    <tr style=\"text-align: right;\">\n",
       "      <th></th>\n",
       "      <th>Date</th>\n",
       "      <th>close</th>\n",
       "      <th>open</th>\n",
       "      <th>high</th>\n",
       "      <th>low</th>\n",
       "    </tr>\n",
       "  </thead>\n",
       "  <tbody>\n",
       "    <tr>\n",
       "      <th>0</th>\n",
       "      <td>2024-01-10</td>\n",
       "      <td>45953.527344</td>\n",
       "      <td>46111.980469</td>\n",
       "      <td>46244.496094</td>\n",
       "      <td>45642.144531</td>\n",
       "    </tr>\n",
       "    <tr>\n",
       "      <th>1</th>\n",
       "      <td>2024-01-09</td>\n",
       "      <td>46128.972656</td>\n",
       "      <td>46959.175781</td>\n",
       "      <td>47880.054688</td>\n",
       "      <td>45333.914062</td>\n",
       "    </tr>\n",
       "    <tr>\n",
       "      <th>2</th>\n",
       "      <td>2024-01-08</td>\n",
       "      <td>46962.214844</td>\n",
       "      <td>43934.179688</td>\n",
       "      <td>47196.667969</td>\n",
       "      <td>43251.023438</td>\n",
       "    </tr>\n",
       "    <tr>\n",
       "      <th>3</th>\n",
       "      <td>2024-01-07</td>\n",
       "      <td>43927.308594</td>\n",
       "      <td>43973.492188</td>\n",
       "      <td>44481.156250</td>\n",
       "      <td>43627.859375</td>\n",
       "    </tr>\n",
       "    <tr>\n",
       "      <th>4</th>\n",
       "      <td>2024-01-06</td>\n",
       "      <td>43967.867188</td>\n",
       "      <td>44156.640625</td>\n",
       "      <td>44203.218750</td>\n",
       "      <td>43424.039062</td>\n",
       "    </tr>\n",
       "  </tbody>\n",
       "</table>\n",
       "</div>"
      ],
      "text/plain": [
       "        Date         close          open          high           low\n",
       "0 2024-01-10  45953.527344  46111.980469  46244.496094  45642.144531\n",
       "1 2024-01-09  46128.972656  46959.175781  47880.054688  45333.914062\n",
       "2 2024-01-08  46962.214844  43934.179688  47196.667969  43251.023438\n",
       "3 2024-01-07  43927.308594  43973.492188  44481.156250  43627.859375\n",
       "4 2024-01-06  43967.867188  44156.640625  44203.218750  43424.039062"
      ]
     },
     "execution_count": 46,
     "metadata": {},
     "output_type": "execute_result"
    }
   ],
   "source": [
    "data.head()"
   ]
  },
  {
   "cell_type": "code",
   "execution_count": 47,
   "id": "0521e3df",
   "metadata": {},
   "outputs": [],
   "source": [
    "data.set_index('Date', inplace=True)"
   ]
  },
  {
   "cell_type": "code",
   "execution_count": 48,
   "id": "1fde8512",
   "metadata": {},
   "outputs": [],
   "source": [
    "btc_prices = pd.DataFrame(data['close']).rename(columns={ 'close': 'Price' })"
   ]
  },
  {
   "cell_type": "code",
   "execution_count": 49,
   "id": "3b31619a",
   "metadata": {},
   "outputs": [
    {
     "data": {
      "text/html": [
       "<div>\n",
       "<style scoped>\n",
       "    .dataframe tbody tr th:only-of-type {\n",
       "        vertical-align: middle;\n",
       "    }\n",
       "\n",
       "    .dataframe tbody tr th {\n",
       "        vertical-align: top;\n",
       "    }\n",
       "\n",
       "    .dataframe thead th {\n",
       "        text-align: right;\n",
       "    }\n",
       "</style>\n",
       "<table border=\"1\" class=\"dataframe\">\n",
       "  <thead>\n",
       "    <tr style=\"text-align: right;\">\n",
       "      <th></th>\n",
       "      <th>Price</th>\n",
       "    </tr>\n",
       "    <tr>\n",
       "      <th>Date</th>\n",
       "      <th></th>\n",
       "    </tr>\n",
       "  </thead>\n",
       "  <tbody>\n",
       "    <tr>\n",
       "      <th>2024-01-10</th>\n",
       "      <td>45953.527344</td>\n",
       "    </tr>\n",
       "    <tr>\n",
       "      <th>2024-01-09</th>\n",
       "      <td>46128.972656</td>\n",
       "    </tr>\n",
       "    <tr>\n",
       "      <th>2024-01-08</th>\n",
       "      <td>46962.214844</td>\n",
       "    </tr>\n",
       "    <tr>\n",
       "      <th>2024-01-07</th>\n",
       "      <td>43927.308594</td>\n",
       "    </tr>\n",
       "    <tr>\n",
       "      <th>2024-01-06</th>\n",
       "      <td>43967.867188</td>\n",
       "    </tr>\n",
       "  </tbody>\n",
       "</table>\n",
       "</div>"
      ],
      "text/plain": [
       "                   Price\n",
       "Date                    \n",
       "2024-01-10  45953.527344\n",
       "2024-01-09  46128.972656\n",
       "2024-01-08  46962.214844\n",
       "2024-01-07  43927.308594\n",
       "2024-01-06  43967.867188"
      ]
     },
     "execution_count": 49,
     "metadata": {},
     "output_type": "execute_result"
    }
   ],
   "source": [
    "btc_prices.head()"
   ]
  },
  {
   "cell_type": "code",
   "execution_count": 50,
   "id": "d33fd9d5",
   "metadata": {},
   "outputs": [
    {
     "data": {
      "image/png": "[encoded data removed]",
      "text/plain": [
       "<Figure size 1000x700 with 1 Axes>"
      ]
     },
     "metadata": {},
     "output_type": "display_data"
    }
   ],
   "source": [
    "# Visualize closing prices\n",
    "import matplotlib.pyplot as plt\n",
    "\n",
    "btc_prices.plot(figsize=(10, 7))\n",
    "plt.ylabel('BTC Price')\n",
    "plt.title('Price of Bitcoin from Oct 2014 to Oct 2022', fontsize=16)\n",
    "plt.legend(fontsize=14);"
   ]
  },
  {
   "cell_type": "code",
   "execution_count": 51,
   "id": "f51d9e86",
   "metadata": {},
   "outputs": [
    {
     "data": {
      "text/html": [
       "<div>\n",
       "<style scoped>\n",
       "    .dataframe tbody tr th:only-of-type {\n",
       "        vertical-align: middle;\n",
       "    }\n",
       "\n",
       "    .dataframe tbody tr th {\n",
       "        vertical-align: top;\n",
       "    }\n",
       "\n",
       "    .dataframe thead th {\n",
       "        text-align: right;\n",
       "    }\n",
       "</style>\n",
       "<table border=\"1\" class=\"dataframe\">\n",
       "  <thead>\n",
       "    <tr style=\"text-align: right;\">\n",
       "      <th></th>\n",
       "      <th>Price</th>\n",
       "    </tr>\n",
       "    <tr>\n",
       "      <th>Date</th>\n",
       "      <th></th>\n",
       "    </tr>\n",
       "  </thead>\n",
       "  <tbody>\n",
       "    <tr>\n",
       "      <th>2013-10-01</th>\n",
       "      <td>140.300003</td>\n",
       "    </tr>\n",
       "    <tr>\n",
       "      <th>2013-10-02</th>\n",
       "      <td>123.000000</td>\n",
       "    </tr>\n",
       "    <tr>\n",
       "      <th>2013-10-03</th>\n",
       "      <td>130.990005</td>\n",
       "    </tr>\n",
       "    <tr>\n",
       "      <th>2013-10-04</th>\n",
       "      <td>136.820007</td>\n",
       "    </tr>\n",
       "    <tr>\n",
       "      <th>2013-10-05</th>\n",
       "      <td>136.699997</td>\n",
       "    </tr>\n",
       "  </tbody>\n",
       "</table>\n",
       "</div>"
      ],
      "text/plain": [
       "                 Price\n",
       "Date                  \n",
       "2013-10-01  140.300003\n",
       "2013-10-02  123.000000\n",
       "2013-10-03  130.990005\n",
       "2013-10-04  136.820007\n",
       "2013-10-05  136.699997"
      ]
     },
     "execution_count": 51,
     "metadata": {},
     "output_type": "execute_result"
    }
   ],
   "source": [
    "# Sort ascending order of prices\n",
    "btc_prices.sort_values('Date', inplace=True)\n",
    "btc_prices.head()"
   ]
  },
  {
   "cell_type": "code",
   "execution_count": 52,
   "id": "ae9f158d",
   "metadata": {},
   "outputs": [],
   "source": [
    "timesteps = btc_prices.index.to_numpy()\n",
    "prices = btc_prices['Price'].to_numpy()"
   ]
  },
  {
   "cell_type": "code",
   "execution_count": 53,
   "id": "c671c9ec",
   "metadata": {},
   "outputs": [
    {
     "data": {
      "text/plain": [
       "(array(['2013-10-01T00:00:00.000000000', '2013-10-02T00:00:00.000000000',\n",
       "        '2013-10-03T00:00:00.000000000', ...,\n",
       "        '2024-01-08T00:00:00.000000000', '2024-01-09T00:00:00.000000000',\n",
       "        '2024-01-10T00:00:00.000000000'], dtype='datetime64[ns]'),\n",
       " array([  140.30000305,   123.        ,   130.99000549, ...,\n",
       "        46962.21484375, 46128.97265625, 45953.52734375]))"
      ]
     },
     "execution_count": 53,
     "metadata": {},
     "output_type": "execute_result"
    }
   ],
   "source": [
    "timesteps, prices"
   ]
  },
  {
   "cell_type": "code",
   "execution_count": 54,
   "id": "81af47f3",
   "metadata": {},
   "outputs": [
    {
     "data": {
      "text/plain": [
       "((3003,), (751,), (3003,), (751,))"
      ]
     },
     "execution_count": 54,
     "metadata": {},
     "output_type": "execute_result"
    }
   ],
   "source": [
    "# Create sequential splits at a specified point (80% train, 20% test)\n",
    "split_size = int(.8 * len(prices))\n",
    "\n",
    "X_train, y_train = timesteps[:split_size], prices[:split_size]\n",
    "X_test, y_test = timesteps[split_size:], prices[split_size:]\n",
    "\n",
    "X_train.shape, X_test.shape, y_train.shape, y_test.shape"
   ]
  },
  {
   "cell_type": "code",
   "execution_count": 55,
   "id": "ee13c3f9",
   "metadata": {},
   "outputs": [],
   "source": [
    "# Create a helper plotting function\n",
    "def plot_time_series(timesteps, prices, format='.', start=0, end=None, label=None):\n",
    "    plt.plot(timesteps[start:end], prices[start:end], format, label=label)\n",
    "    plt.xlabel('Date')\n",
    "    plt.ylabel('Price')\n",
    "    if label:\n",
    "        plt.legend(fontsize=14)\n",
    "\n",
    "    # Display a grid for easier measurement readings\n",
    "    plt.grid(True)"
   ]
  },
  {
   "cell_type": "code",
   "execution_count": 56,
   "id": "6241d337",
   "metadata": {
    "scrolled": false
   },
   "outputs": [
    {
     "data": {
      "image/png": "[encoded data removed]",
      "text/plain": [
       "<Figure size 640x480 with 1 Axes>"
      ]
     },
     "metadata": {},
     "output_type": "display_data"
    }
   ],
   "source": [
    "plot_time_series(X_train, y_train, label='Training data')\n",
    "plot_time_series(X_test, y_test, label='Test data')"
   ]
  },
  {
   "cell_type": "markdown",
   "id": "b4522dff",
   "metadata": {},
   "source": [
    "### Create windowed train & test sets"
   ]
  },
  {
   "cell_type": "markdown",
   "id": "4c73c30c",
   "metadata": {},
   "source": [
    "**Phase 01 - Horizon 1; Window 7**"
   ]
  },
  {
   "cell_type": "code",
   "execution_count": 57,
   "id": "e0a1fafc",
   "metadata": {},
   "outputs": [],
   "source": [
    "# predict 1 step at a time\n",
    "HORIZON = 1\n",
    "\n",
    "# use a week worth of timesteps to predict the horizon\n",
    "WINDOW_SIZE = 7"
   ]
  },
  {
   "cell_type": "code",
   "execution_count": 58,
   "id": "bf5b8858",
   "metadata": {},
   "outputs": [],
   "source": [
    "# Create function to label windowed data\n",
    "def get_labelled_windows(x, horizon=1):\n",
    "    return x[:, :-horizon], x[:, -horizon:]"
   ]
  },
  {
   "cell_type": "code",
   "execution_count": 59,
   "id": "243dfc20",
   "metadata": {},
   "outputs": [],
   "source": [
    "# Create a function to make windows across entire time series\n",
    "def make_windows(x, window_size=7, horizon=1):\n",
    "    # Create a window of specific window_size\n",
    "    window_step = np.expand_dims(np.arange(window_size + horizon), axis=0)\n",
    "    \n",
    "    # Create a 2D array of multiple window steps\n",
    "    window_indexes = window_step + np.expand_dims(np.arange(len(x) - (window_size + horizon - 1)), axis=0).T\n",
    "    \n",
    "    windowed_array = x[window_indexes]\n",
    "    \n",
    "    windows, labels = get_labelled_windows(windowed_array, horizon)\n",
    "    return windows, labels"
   ]
  },
  {
   "cell_type": "code",
   "execution_count": 60,
   "id": "2609aa60",
   "metadata": {},
   "outputs": [],
   "source": [
    "full_windows, full_labels = make_windows(prices, WINDOW_SIZE, HORIZON)"
   ]
  },
  {
   "cell_type": "code",
   "execution_count": 61,
   "id": "807180e8",
   "metadata": {},
   "outputs": [
    {
     "data": {
      "text/plain": [
       "(array([[  140.30000305,   123.        ,   130.99000549, ...,\n",
       "           136.69999695,   137.80000305,   135.80000305],\n",
       "        [  123.        ,   130.99000549,   136.82000732, ...,\n",
       "           137.80000305,   135.80000305,   136.49000549],\n",
       "        [  130.99000549,   136.82000732,   136.69999695, ...,\n",
       "           135.80000305,   136.49000549,   139.5       ],\n",
       "        ...,\n",
       "        [44183.375     , 44943.71875   , 42836.125     , ...,\n",
       "         44156.875     , 43967.8671875 , 43927.30859375],\n",
       "        [44943.71875   , 42836.125     , 44157.03515625, ...,\n",
       "         43967.8671875 , 43927.30859375, 46962.21484375],\n",
       "        [42836.125     , 44157.03515625, 44156.875     , ...,\n",
       "         43927.30859375, 46962.21484375, 46128.97265625]]),\n",
       " array([[  136.49000549],\n",
       "        [  139.5       ],\n",
       "        [  140.41000366],\n",
       "        ...,\n",
       "        [46962.21484375],\n",
       "        [46128.97265625],\n",
       "        [45953.52734375]]))"
      ]
     },
     "execution_count": 61,
     "metadata": {},
     "output_type": "execute_result"
    }
   ],
   "source": [
    "full_windows, full_labels"
   ]
  },
  {
   "cell_type": "code",
   "execution_count": 62,
   "id": "41306e57",
   "metadata": {},
   "outputs": [],
   "source": [
    "def make_train_test_splits(windows, labels, test_split=.2):\n",
    "    split_size = int(len(windows) * (1 - test_split)) # 80%\n",
    "    train_windows = windows[:split_size]\n",
    "    train_labels = labels[:split_size]\n",
    "    test_windows = windows[split_size:]\n",
    "    test_labels = labels[split_size:]\n",
    "    return train_windows, test_windows, train_labels, test_labels"
   ]
  },
  {
   "cell_type": "code",
   "execution_count": 63,
   "id": "910333fe",
   "metadata": {},
   "outputs": [
    {
     "data": {
      "text/plain": [
       "(2997, 750, 2997, 750)"
      ]
     },
     "execution_count": 63,
     "metadata": {},
     "output_type": "execute_result"
    }
   ],
   "source": [
    "train_windows, test_windows, train_labels, test_labels = make_train_test_splits(full_windows, full_labels)\n",
    "len(train_windows), len(test_windows), len(train_labels), len(test_labels)"
   ]
  },
  {
   "cell_type": "markdown",
   "id": "38502fa8",
   "metadata": {},
   "source": [
    "### Attempt model training"
   ]
  },
  {
   "cell_type": "code",
   "execution_count": 64,
   "id": "137689b1",
   "metadata": {
    "scrolled": false
   },
   "outputs": [
    {
     "name": "stderr",
     "output_type": "stream",
     "text": [
      "2024-01-10 11:17:08.774326: I tensorflow/core/common_runtime/process_util.cc:146] Creating new thread pool with default inter op setting: 2. Tune using inter_op_parallelism_threads for best performance.\n"
     ]
    }
   ],
   "source": [
    "model = tf.keras.Sequential([\n",
    "    tf.keras.layers.Input(shape=(WINDOW_SIZE)),\n",
    "    \n",
    "    # Expand dimensions to align with required input shape\n",
    "    tf.keras.layers.Lambda(lambda x: tf.expand_dims(x, axis=1)),\n",
    "    tf.keras.layers.RNN(LTSCell(32), time_major=True),\n",
    "    tf.keras.layers.Dense(HORIZON, activation='linear')\n",
    "])"
   ]
  },
  {
   "cell_type": "code",
   "execution_count": 65,
   "id": "619c2326",
   "metadata": {},
   "outputs": [
    {
     "name": "stdout",
     "output_type": "stream",
     "text": [
      "Model: \"sequential\"\n",
      "_________________________________________________________________\n",
      " Layer (type)                Output Shape              Param #   \n",
      "=================================================================\n",
      " lambda (Lambda)             (None, 1, 7)              0         \n",
      "                                                                 \n",
      " rnn (RNN)                   (1, 32)                   5072      \n",
      "                                                                 \n",
      " dense (Dense)               (1, 1)                    33        \n",
      "                                                                 \n",
      "=================================================================\n",
      "Total params: 5,105\n",
      "Trainable params: 5,105\n",
      "Non-trainable params: 0\n",
      "_________________________________________________________________\n"
     ]
    }
   ],
   "source": [
    "model.summary()"
   ]
  },
  {
   "cell_type": "code",
   "execution_count": 66,
   "id": "9d818069",
   "metadata": {
    "scrolled": false
   },
   "outputs": [
    {
     "name": "stdout",
     "output_type": "stream",
     "text": [
      "Epoch 1/10\n",
      "94/94 [==============================] - 18s 77ms/step - loss: 8704.7285 - mae: 8704.7285 - mse: 269024640.0000\n",
      "Epoch 2/10\n",
      "94/94 [==============================] - 7s 71ms/step - loss: 8619.8135 - mae: 8619.8135 - mse: 253657600.0000\n",
      "Epoch 3/10\n",
      "94/94 [==============================] - 7s 72ms/step - loss: 8632.8535 - mae: 8632.8535 - mse: 258885760.0000\n",
      "Epoch 4/10\n",
      "94/94 [==============================] - 7s 75ms/step - loss: 8615.0527 - mae: 8615.0527 - mse: 256654736.0000\n",
      "Epoch 5/10\n",
      "94/94 [==============================] - 7s 73ms/step - loss: 8616.6982 - mae: 8616.6982 - mse: 255972032.0000\n",
      "Epoch 6/10\n",
      "94/94 [==============================] - 7s 71ms/step - loss: 8621.2793 - mae: 8621.2793 - mse: 255528496.0000\n",
      "Epoch 7/10\n",
      "94/94 [==============================] - 7s 70ms/step - loss: 8614.4590 - mae: 8614.4590 - mse: 255942064.0000\n",
      "Epoch 8/10\n",
      "94/94 [==============================] - 7s 70ms/step - loss: 8620.2725 - mae: 8620.2725 - mse: 257842528.0000\n",
      "Epoch 9/10\n",
      "94/94 [==============================] - 7s 72ms/step - loss: 8620.5273 - mae: 8620.5273 - mse: 257758864.0000\n",
      "Epoch 10/10\n",
      "94/94 [==============================] - 7s 71ms/step - loss: 8617.2510 - mae: 8617.2510 - mse: 253570544.0000\n"
     ]
    }
   ],
   "source": [
    "model.compile(\n",
    "    optimizer = tf.keras.optimizers.Adam(\n",
    "        learning_rate = .01,\n",
    "        clipvalue=.5\n",
    "    ),\n",
    "    loss = tf.keras.losses.MAE,\n",
    "    metrics = ['mae', 'mse']\n",
    ")\n",
    "\n",
    "history_1 = model.fit(\n",
    "    train_windows,\n",
    "    train_labels,\n",
    "    epochs=10,\n",
    ")"
   ]
  },
  {
   "cell_type": "markdown",
   "id": "7e385c6d",
   "metadata": {},
   "source": [
    "Gradient explosion occurs - Add LSTM layer"
   ]
  },
  {
   "cell_type": "markdown",
   "id": "bc9ff514",
   "metadata": {},
   "source": [
    "### Experiments\n",
    "train for less number of epochs for faster experimentation"
   ]
  },
  {
   "attachments": {},
   "cell_type": "markdown",
   "id": "ae0c934f",
   "metadata": {},
   "source": [
    "**Model 2 - LTS, LSTM - activation tanh**"
   ]
  },
  {
   "cell_type": "code",
   "execution_count": 67,
   "id": "2839a801",
   "metadata": {},
   "outputs": [
    {
     "name": "stderr",
     "output_type": "stream",
     "text": [
      "2024-01-10 11:18:28.501807: I tensorflow/core/common_runtime/executor.cc:1197] [/device:CPU:0] (DEBUG INFO) Executor start aborting (this does not indicate an error and you can ignore this message): INVALID_ARGUMENT: You must feed a value for placeholder tensor 'gradients/split_2_grad/concat/split_2/split_dim' with dtype int32\n",
      "\t [[{{node gradients/split_2_grad/concat/split_2/split_dim}}]]\n",
      "2024-01-10 11:18:28.502874: I tensorflow/core/common_runtime/executor.cc:1197] [/device:CPU:0] (DEBUG INFO) Executor start aborting (this does not indicate an error and you can ignore this message): INVALID_ARGUMENT: You must feed a value for placeholder tensor 'gradients/split_grad/concat/split/split_dim' with dtype int32\n",
      "\t [[{{node gradients/split_grad/concat/split/split_dim}}]]\n",
      "2024-01-10 11:18:28.503627: I tensorflow/core/common_runtime/executor.cc:1197] [/device:CPU:0] (DEBUG INFO) Executor start aborting (this does not indicate an error and you can ignore this message): INVALID_ARGUMENT: You must feed a value for placeholder tensor 'gradients/split_1_grad/concat/split_1/split_dim' with dtype int32\n",
      "\t [[{{node gradients/split_1_grad/concat/split_1/split_dim}}]]\n"
     ]
    }
   ],
   "source": [
    "model_2 = tf.keras.Sequential([\n",
    "    tf.keras.layers.Input(shape=(WINDOW_SIZE)),\n",
    "    tf.keras.layers.Lambda(lambda x: tf.expand_dims(x, axis=1)),\n",
    "    tf.keras.layers.RNN(LTSCell(128), time_major=True, return_sequences=True),\n",
    "    tf.keras.layers.LSTM(128),\n",
    "    tf.keras.layers.Dense(HORIZON, activation='linear')\n",
    "])"
   ]
  },
  {
   "cell_type": "code",
   "execution_count": 68,
   "id": "4e98bf5f",
   "metadata": {},
   "outputs": [],
   "source": [
    "model_2.compile(\n",
    "    optimizer = tf.keras.optimizers.Adam(learning_rate = .01),\n",
    "    loss = tf.keras.losses.MAE,\n",
    "    metrics = ['mae', 'mse']\n",
    ")"
   ]
  },
  {
   "cell_type": "code",
   "execution_count": 69,
   "id": "dc333126",
   "metadata": {
    "scrolled": true
   },
   "outputs": [
    {
     "name": "stdout",
     "output_type": "stream",
     "text": [
      "Epoch 1/10\n"
     ]
    },
    {
     "name": "stderr",
     "output_type": "stream",
     "text": [
      "2024-01-10 11:18:28.781170: I tensorflow/core/common_runtime/executor.cc:1197] [/device:CPU:0] (DEBUG INFO) Executor start aborting (this does not indicate an error and you can ignore this message): INVALID_ARGUMENT: You must feed a value for placeholder tensor 'gradients/split_2_grad/concat/split_2/split_dim' with dtype int32\n",
      "\t [[{{node gradients/split_2_grad/concat/split_2/split_dim}}]]\n",
      "2024-01-10 11:18:28.782269: I tensorflow/core/common_runtime/executor.cc:1197] [/device:CPU:0] (DEBUG INFO) Executor start aborting (this does not indicate an error and you can ignore this message): INVALID_ARGUMENT: You must feed a value for placeholder tensor 'gradients/split_grad/concat/split/split_dim' with dtype int32\n",
      "\t [[{{node gradients/split_grad/concat/split/split_dim}}]]\n",
      "2024-01-10 11:18:28.783175: I tensorflow/core/common_runtime/executor.cc:1197] [/device:CPU:0] (DEBUG INFO) Executor start aborting (this does not indicate an error and you can ignore this message): INVALID_ARGUMENT: You must feed a value for placeholder tensor 'gradients/split_1_grad/concat/split_1/split_dim' with dtype int32\n",
      "\t [[{{node gradients/split_1_grad/concat/split_1/split_dim}}]]\n",
      "2024-01-10 11:18:32.491090: I tensorflow/core/common_runtime/executor.cc:1197] [/device:CPU:0] (DEBUG INFO) Executor start aborting (this does not indicate an error and you can ignore this message): INVALID_ARGUMENT: You must feed a value for placeholder tensor 'gradients/split_2_grad/concat/split_2/split_dim' with dtype int32\n",
      "\t [[{{node gradients/split_2_grad/concat/split_2/split_dim}}]]\n",
      "2024-01-10 11:18:32.492334: I tensorflow/core/common_runtime/executor.cc:1197] [/device:CPU:0] (DEBUG INFO) Executor start aborting (this does not indicate an error and you can ignore this message): INVALID_ARGUMENT: You must feed a value for placeholder tensor 'gradients/split_grad/concat/split/split_dim' with dtype int32\n",
      "\t [[{{node gradients/split_grad/concat/split/split_dim}}]]\n",
      "2024-01-10 11:18:32.493242: I tensorflow/core/common_runtime/executor.cc:1197] [/device:CPU:0] (DEBUG INFO) Executor start aborting (this does not indicate an error and you can ignore this message): INVALID_ARGUMENT: You must feed a value for placeholder tensor 'gradients/split_1_grad/concat/split_1/split_dim' with dtype int32\n",
      "\t [[{{node gradients/split_1_grad/concat/split_1/split_dim}}]]\n"
     ]
    },
    {
     "name": "stdout",
     "output_type": "stream",
     "text": [
      "94/94 [==============================] - 46s 370ms/step - loss: 9423.5439 - mae: 9423.5439 - mse: 313265376.0000\n",
      "Epoch 2/10\n",
      "94/94 [==============================] - 34s 359ms/step - loss: 9375.8008 - mae: 9375.8008 - mse: 312365472.0000\n",
      "Epoch 3/10\n",
      "94/94 [==============================] - 35s 369ms/step - loss: 9328.2793 - mae: 9328.2793 - mse: 311456928.0000\n",
      "Epoch 4/10\n",
      "94/94 [==============================] - 33s 355ms/step - loss: 9281.2471 - mae: 9281.2471 - mse: 310592032.0000\n",
      "Epoch 5/10\n",
      "94/94 [==============================] - 37s 395ms/step - loss: 9235.2461 - mae: 9235.2461 - mse: 309715232.0000\n",
      "Epoch 6/10\n",
      "94/94 [==============================] - 35s 376ms/step - loss: 9196.1279 - mae: 9196.1279 - mse: 308911328.0000\n",
      "Epoch 7/10\n",
      "94/94 [==============================] - 36s 384ms/step - loss: 9163.9355 - mae: 9163.9355 - mse: 308179296.0000\n",
      "Epoch 8/10\n",
      "94/94 [==============================] - 35s 372ms/step - loss: 9134.3115 - mae: 9134.3115 - mse: 307462624.0000\n",
      "Epoch 9/10\n",
      "94/94 [==============================] - 35s 370ms/step - loss: 9106.8750 - mae: 9106.8750 - mse: 306769760.0000\n",
      "Epoch 10/10\n",
      "94/94 [==============================] - 34s 364ms/step - loss: 9082.7197 - mae: 9082.7197 - mse: 306117792.0000\n"
     ]
    }
   ],
   "source": [
    "history_2 = model_2.fit(\n",
    "    train_windows,\n",
    "    train_labels,\n",
    "    epochs=10,\n",
    ")"
   ]
  },
  {
   "attachments": {},
   "cell_type": "markdown",
   "id": "b8ad165f",
   "metadata": {},
   "source": [
    "**Model 2 - LTS, LSTM - activation relu**"
   ]
  },
  {
   "cell_type": "code",
   "execution_count": 70,
   "id": "20d1440c",
   "metadata": {},
   "outputs": [],
   "source": [
    "model_3 = tf.keras.Sequential([\n",
    "    tf.keras.layers.Input(shape=(WINDOW_SIZE)),\n",
    "    tf.keras.layers.Lambda(lambda x: tf.expand_dims(x, axis=1)),\n",
    "    tf.keras.layers.RNN(LTSCell(128), time_major=True, return_sequences=True),\n",
    "    tf.keras.layers.LSTM(128, activation='relu'),\n",
    "    tf.keras.layers.Dense(HORIZON, activation='linear')\n",
    "])"
   ]
  },
  {
   "cell_type": "code",
   "execution_count": 71,
   "id": "858624b8",
   "metadata": {},
   "outputs": [],
   "source": [
    "model_3.compile(\n",
    "    optimizer = tf.keras.optimizers.Adam(learning_rate = .01),\n",
    "    loss = tf.keras.losses.MAE,\n",
    "    metrics = ['mae', 'mse']\n",
    ")"
   ]
  },
  {
   "cell_type": "code",
   "execution_count": 72,
   "id": "25792eac",
   "metadata": {},
   "outputs": [
    {
     "name": "stdout",
     "output_type": "stream",
     "text": [
      "Epoch 1/10\n",
      "94/94 [==============================] - 48s 392ms/step - loss: 8798.1250 - mae: 8798.1250 - mse: 271656160.0000\n",
      "Epoch 2/10\n",
      "94/94 [==============================] - 37s 397ms/step - loss: 8717.4414 - mae: 8717.4414 - mse: 266183024.0000\n",
      "Epoch 3/10\n",
      "94/94 [==============================] - 37s 395ms/step - loss: 8658.1211 - mae: 8658.1211 - mse: 260722848.0000\n",
      "Epoch 4/10\n",
      "94/94 [==============================] - 38s 401ms/step - loss: 8641.7715 - mae: 8641.7715 - mse: 257096544.0000\n",
      "Epoch 5/10\n",
      "94/94 [==============================] - 36s 377ms/step - loss: 8724.9004 - mae: 8724.9004 - mse: 268398544.0000\n",
      "Epoch 6/10\n",
      "94/94 [==============================] - 36s 384ms/step - loss: 8648.5439 - mae: 8648.5439 - mse: 261233168.0000\n",
      "Epoch 7/10\n",
      "94/94 [==============================] - 35s 372ms/step - loss: 8642.1924 - mae: 8642.1924 - mse: 258418240.0000\n",
      "Epoch 8/10\n",
      "94/94 [==============================] - 36s 385ms/step - loss: 8670.3672 - mae: 8670.3672 - mse: 261387552.0000\n",
      "Epoch 9/10\n",
      "94/94 [==============================] - 34s 366ms/step - loss: 8667.9199 - mae: 8667.9199 - mse: 260360512.0000\n",
      "Epoch 10/10\n",
      "94/94 [==============================] - 35s 375ms/step - loss: 8666.9160 - mae: 8666.9160 - mse: 257883680.0000\n"
     ]
    }
   ],
   "source": [
    "history_3 = model_3.fit(\n",
    "    train_windows,\n",
    "    train_labels,\n",
    "    epochs=10,\n",
    ")"
   ]
  },
  {
   "cell_type": "markdown",
   "id": "358ea3da",
   "metadata": {},
   "source": [
    "LSTM with ReLU activation performs better - moving forward with ReLU"
   ]
  },
  {
   "attachments": {},
   "cell_type": "markdown",
   "id": "3abba21e",
   "metadata": {},
   "source": [
    "**Model 3 - Two LTS layers, LSTM**"
   ]
  },
  {
   "cell_type": "code",
   "execution_count": 73,
   "id": "20f5adfc",
   "metadata": {},
   "outputs": [],
   "source": [
    "model_4 = tf.keras.Sequential([\n",
    "    tf.keras.layers.Input(shape=(WINDOW_SIZE)),\n",
    "    tf.keras.layers.Lambda(lambda x: tf.expand_dims(x, axis=1)),\n",
    "    tf.keras.layers.RNN(LTSCell(128), time_major=True, return_sequences=True),\n",
    "    tf.keras.layers.RNN(LTSCell(128), time_major=True, return_sequences=True),\n",
    "    tf.keras.layers.LSTM(128, activation='relu'),\n",
    "    tf.keras.layers.Dense(HORIZON, activation='linear')\n",
    "])"
   ]
  },
  {
   "cell_type": "code",
   "execution_count": 74,
   "id": "2666705e",
   "metadata": {},
   "outputs": [],
   "source": [
    "model_4.compile(\n",
    "    optimizer = tf.keras.optimizers.Adam(learning_rate = .01),\n",
    "    loss = tf.keras.losses.MAE,\n",
    "    metrics = ['mae', 'mse']\n",
    ")"
   ]
  },
  {
   "cell_type": "code",
   "execution_count": 75,
   "id": "6db49b7c",
   "metadata": {},
   "outputs": [
    {
     "name": "stdout",
     "output_type": "stream",
     "text": [
      "Epoch 1/10\n"
     ]
    },
    {
     "name": "stdout",
     "output_type": "stream",
     "text": [
      "94/94 [==============================] - 79s 601ms/step - loss: 8757.2900 - mae: 8757.2900 - mse: 271625888.0000\n",
      "Epoch 2/10\n",
      "94/94 [==============================] - 58s 613ms/step - loss: 8691.5752 - mae: 8691.5752 - mse: 266735472.0000\n",
      "Epoch 3/10\n",
      "94/94 [==============================] - 57s 602ms/step - loss: 8774.4414 - mae: 8774.4414 - mse: 271326016.0000\n",
      "Epoch 4/10\n",
      "94/94 [==============================] - 58s 616ms/step - loss: 8746.8496 - mae: 8746.8496 - mse: 272261088.0000\n",
      "Epoch 5/10\n",
      "94/94 [==============================] - 57s 604ms/step - loss: 8746.7656 - mae: 8746.7656 - mse: 269835104.0000\n",
      "Epoch 6/10\n",
      "94/94 [==============================] - 57s 603ms/step - loss: 8671.0889 - mae: 8671.0889 - mse: 264139488.0000\n",
      "Epoch 7/10\n",
      "94/94 [==============================] - 57s 608ms/step - loss: 8782.3682 - mae: 8782.3682 - mse: 271057184.0000\n",
      "Epoch 8/10\n",
      "94/94 [==============================] - 57s 608ms/step - loss: 8733.8662 - mae: 8733.8662 - mse: 268730976.0000\n",
      "Epoch 9/10\n",
      "94/94 [==============================] - 56s 596ms/step - loss: 8754.3359 - mae: 8754.3359 - mse: 268453280.0000\n",
      "Epoch 10/10\n",
      "94/94 [==============================] - 57s 605ms/step - loss: 8739.7607 - mae: 8739.7607 - mse: 267188656.0000\n"
     ]
    }
   ],
   "source": [
    "history_4 = model_4.fit(\n",
    "    train_windows,\n",
    "    train_labels,\n",
    "    epochs=10,\n",
    ")"
   ]
  },
  {
   "cell_type": "markdown",
   "id": "472408fb",
   "metadata": {},
   "source": [
    "Seems like more LTC cells do not make a difference"
   ]
  },
  {
   "attachments": {},
   "cell_type": "markdown",
   "id": "94577949",
   "metadata": {},
   "source": [
    "**Model 4 - LTS, Two LSTM layers**"
   ]
  },
  {
   "cell_type": "code",
   "execution_count": 76,
   "id": "5e2081e8",
   "metadata": {},
   "outputs": [],
   "source": [
    "model_5 = tf.keras.Sequential([\n",
    "    tf.keras.layers.Input(shape=(WINDOW_SIZE)),\n",
    "    tf.keras.layers.Lambda(lambda x: tf.expand_dims(x, axis=1)),\n",
    "    tf.keras.layers.RNN(LTSCell(128), time_major=True, return_sequences=True),\n",
    "    tf.keras.layers.LSTM(128, activation='relu', time_major=True, return_sequences=True),\n",
    "    tf.keras.layers.LSTM(128, activation='relu'),\n",
    "    tf.keras.layers.Dense(HORIZON, activation='linear')\n",
    "])"
   ]
  },
  {
   "cell_type": "code",
   "execution_count": 77,
   "id": "c0187aaa",
   "metadata": {},
   "outputs": [],
   "source": [
    "model_5.compile(\n",
    "    optimizer = tf.keras.optimizers.Adam(learning_rate = .01),\n",
    "    loss = tf.keras.losses.MAE,\n",
    "    metrics = ['mae', 'mse']\n",
    ")"
   ]
  },
  {
   "cell_type": "code",
   "execution_count": 78,
   "id": "ce50778d",
   "metadata": {},
   "outputs": [
    {
     "name": "stdout",
     "output_type": "stream",
     "text": [
      "Epoch 1/10\n"
     ]
    },
    {
     "name": "stdout",
     "output_type": "stream",
     "text": [
      "94/94 [==============================] - 50s 403ms/step - loss: 9136.7012 - mae: 9136.7012 - mse: 289707520.0000\n",
      "Epoch 2/10\n",
      "94/94 [==============================] - 37s 397ms/step - loss: 8737.9014 - mae: 8737.9014 - mse: 273011744.0000\n",
      "Epoch 3/10\n",
      "94/94 [==============================] - 38s 405ms/step - loss: 8780.7695 - mae: 8780.7695 - mse: 272774912.0000\n",
      "Epoch 4/10\n",
      "94/94 [==============================] - 38s 407ms/step - loss: 8796.5156 - mae: 8796.5156 - mse: 274180384.0000\n",
      "Epoch 5/10\n",
      "94/94 [==============================] - 37s 392ms/step - loss: 8757.5664 - mae: 8757.5664 - mse: 270298080.0000\n",
      "Epoch 6/10\n",
      "94/94 [==============================] - 38s 404ms/step - loss: 8735.3008 - mae: 8735.3008 - mse: 269210816.0000\n",
      "Epoch 7/10\n",
      "94/94 [==============================] - 37s 397ms/step - loss: 8723.7900 - mae: 8723.7900 - mse: 266266288.0000\n",
      "Epoch 8/10\n",
      "94/94 [==============================] - 39s 409ms/step - loss: 8833.8379 - mae: 8833.8379 - mse: 270480160.0000\n",
      "Epoch 9/10\n",
      "94/94 [==============================] - 36s 384ms/step - loss: 8698.9980 - mae: 8698.9980 - mse: 265591520.0000\n",
      "Epoch 10/10\n",
      "94/94 [==============================] - 39s 412ms/step - loss: 8662.2432 - mae: 8662.2432 - mse: 262396000.0000\n"
     ]
    }
   ],
   "source": [
    "history_5 = model_5.fit(\n",
    "    train_windows,\n",
    "    train_labels,\n",
    "    epochs=10,\n",
    ")"
   ]
  },
  {
   "cell_type": "markdown",
   "id": "fd7d73df",
   "metadata": {},
   "source": [
    "More LSTM layers do not make a difference either"
   ]
  },
  {
   "attachments": {},
   "cell_type": "markdown",
   "id": "2a44f074",
   "metadata": {},
   "source": [
    "**Model 5 - Two LTS layers, Two LSTM layers**"
   ]
  },
  {
   "cell_type": "code",
   "execution_count": 79,
   "id": "0839dd65",
   "metadata": {},
   "outputs": [],
   "source": [
    "model_6 = tf.keras.Sequential([\n",
    "    tf.keras.layers.Input(shape=(WINDOW_SIZE)),\n",
    "    tf.keras.layers.Lambda(lambda x: tf.expand_dims(x, axis=1)),\n",
    "    tf.keras.layers.RNN(LTSCell(128), time_major=True, return_sequences=True),\n",
    "    tf.keras.layers.RNN(LTSCell(128), time_major=True, return_sequences=True),\n",
    "    tf.keras.layers.LSTM(128, activation='relu', time_major=True, return_sequences=True),\n",
    "    tf.keras.layers.LSTM(128, activation='relu'),\n",
    "    tf.keras.layers.Dense(HORIZON, activation='linear')\n",
    "])"
   ]
  },
  {
   "cell_type": "code",
   "execution_count": 80,
   "id": "42777e90",
   "metadata": {},
   "outputs": [],
   "source": [
    "model_6.compile(\n",
    "    optimizer = tf.keras.optimizers.Adam(learning_rate = .01),\n",
    "    loss = tf.keras.losses.MAE,\n",
    "    metrics = ['mae', 'mse']\n",
    ")"
   ]
  },
  {
   "cell_type": "code",
   "execution_count": 81,
   "id": "cd583a98",
   "metadata": {},
   "outputs": [
    {
     "name": "stdout",
     "output_type": "stream",
     "text": [
      "Epoch 1/10\n"
     ]
    },
    {
     "name": "stdout",
     "output_type": "stream",
     "text": [
      "94/94 [==============================] - 83s 638ms/step - loss: 9238.2412 - mae: 9238.2412 - mse: 286804064.0000\n",
      "Epoch 2/10\n",
      "94/94 [==============================] - 57s 607ms/step - loss: 8776.6611 - mae: 8776.6611 - mse: 271949728.0000\n",
      "Epoch 3/10\n",
      "94/94 [==============================] - 56s 598ms/step - loss: 8703.7002 - mae: 8703.7002 - mse: 264642240.0000\n",
      "Epoch 4/10\n",
      "94/94 [==============================] - 56s 590ms/step - loss: 8659.3115 - mae: 8659.3115 - mse: 264802944.0000\n",
      "Epoch 5/10\n",
      "94/94 [==============================] - 55s 586ms/step - loss: 8621.4580 - mae: 8621.4580 - mse: 260763632.0000\n",
      "Epoch 6/10\n",
      "94/94 [==============================] - 56s 597ms/step - loss: 8847.0908 - mae: 8847.0908 - mse: 271711584.0000\n",
      "Epoch 7/10\n",
      "94/94 [==============================] - 57s 609ms/step - loss: 8756.4346 - mae: 8756.4346 - mse: 269822368.0000\n",
      "Epoch 8/10\n",
      "94/94 [==============================] - 56s 599ms/step - loss: 8700.5342 - mae: 8700.5342 - mse: 267346928.0000\n",
      "Epoch 9/10\n",
      "94/94 [==============================] - 55s 583ms/step - loss: 8693.0107 - mae: 8693.0107 - mse: 264620896.0000\n",
      "Epoch 10/10\n",
      "94/94 [==============================] - 56s 593ms/step - loss: 8648.4248 - mae: 8648.4248 - mse: 257936384.0000\n"
     ]
    }
   ],
   "source": [
    "history_6 = model_6.fit(\n",
    "    train_windows,\n",
    "    train_labels,\n",
    "    epochs=10,\n",
    ")"
   ]
  },
  {
   "cell_type": "markdown",
   "id": "9c005ee9",
   "metadata": {},
   "source": [
    "More  of both layers do not make a difference either - return to base"
   ]
  },
  {
   "cell_type": "markdown",
   "id": "e6d92723",
   "metadata": {},
   "source": [
    "### Tune hyperparameters\n",
    "\n",
    "Epochs and learning rate can be tuned by keras callbacks. Therefore, only batch size, optimization function, and hidden units are required to tune"
   ]
  },
  {
   "cell_type": "markdown",
   "id": "76d52892",
   "metadata": {},
   "source": [
    "**Update hidden units (multiples of 32 are preferred)**"
   ]
  },
  {
   "cell_type": "code",
   "execution_count": 82,
   "id": "176bc013",
   "metadata": {},
   "outputs": [],
   "source": [
    "model_7 = tf.keras.Sequential([\n",
    "    tf.keras.layers.Input(shape=(WINDOW_SIZE)),\n",
    "    tf.keras.layers.Lambda(lambda x: tf.expand_dims(x, axis=1)),\n",
    "    tf.keras.layers.RNN(LTSCell(32), time_major=True, return_sequences=True),\n",
    "    tf.keras.layers.LSTM(32, activation='relu'),\n",
    "    tf.keras.layers.Dense(HORIZON, activation='linear')\n",
    "])"
   ]
  },
  {
   "cell_type": "code",
   "execution_count": 83,
   "id": "d8251252",
   "metadata": {},
   "outputs": [],
   "source": [
    "model_7.compile(\n",
    "    optimizer = tf.keras.optimizers.Adam(learning_rate = .01),\n",
    "    loss = tf.keras.losses.MAE,\n",
    "    metrics = ['mae', 'mse']\n",
    ")"
   ]
  },
  {
   "cell_type": "code",
   "execution_count": 84,
   "id": "3b4b66f7",
   "metadata": {},
   "outputs": [
    {
     "name": "stdout",
     "output_type": "stream",
     "text": [
      "Epoch 1/10\n"
     ]
    },
    {
     "name": "stdout",
     "output_type": "stream",
     "text": [
      "94/94 [==============================] - 33s 236ms/step - loss: 8870.0869 - mae: 8870.0869 - mse: 280119392.0000\n",
      "Epoch 2/10\n",
      "94/94 [==============================] - 22s 233ms/step - loss: 8759.5947 - mae: 8759.5947 - mse: 271304832.0000\n",
      "Epoch 3/10\n",
      "94/94 [==============================] - 22s 232ms/step - loss: 8794.3232 - mae: 8794.3232 - mse: 267001232.0000\n",
      "Epoch 4/10\n",
      "94/94 [==============================] - 23s 244ms/step - loss: 8692.3057 - mae: 8692.3057 - mse: 265429936.0000\n",
      "Epoch 5/10\n",
      "94/94 [==============================] - 22s 234ms/step - loss: 8778.4766 - mae: 8778.4766 - mse: 270227680.0000\n",
      "Epoch 6/10\n",
      "94/94 [==============================] - 22s 236ms/step - loss: 8728.3916 - mae: 8728.3916 - mse: 266612688.0000\n",
      "Epoch 7/10\n",
      "94/94 [==============================] - 23s 244ms/step - loss: 8684.0850 - mae: 8684.0850 - mse: 265715024.0000\n",
      "Epoch 8/10\n",
      "94/94 [==============================] - 23s 240ms/step - loss: 8734.0830 - mae: 8734.0830 - mse: 263209088.0000\n",
      "Epoch 9/10\n",
      "94/94 [==============================] - 21s 226ms/step - loss: 8735.9121 - mae: 8735.9121 - mse: 268710400.0000\n",
      "Epoch 10/10\n",
      "94/94 [==============================] - 23s 242ms/step - loss: 8707.6133 - mae: 8707.6133 - mse: 267089728.0000\n"
     ]
    }
   ],
   "source": [
    "history_7 = model_7.fit(\n",
    "    train_windows,\n",
    "    train_labels,\n",
    "    epochs=10,\n",
    ")"
   ]
  },
  {
   "cell_type": "markdown",
   "id": "26f4908b",
   "metadata": {},
   "source": [
    "128 and 32 is very similar - moving forward with 32 as it trains faster"
   ]
  },
  {
   "cell_type": "markdown",
   "id": "d396f6ed",
   "metadata": {},
   "source": [
    "**Update batch size**"
   ]
  },
  {
   "cell_type": "code",
   "execution_count": 85,
   "id": "690b1e19",
   "metadata": {},
   "outputs": [],
   "source": [
    "model_8 = tf.keras.Sequential([\n",
    "    tf.keras.layers.Input(shape=(WINDOW_SIZE)),\n",
    "    tf.keras.layers.Lambda(lambda x: tf.expand_dims(x, axis=1)),\n",
    "    tf.keras.layers.RNN(LTSCell(32), time_major=True, return_sequences=True),\n",
    "    tf.keras.layers.LSTM(32, activation='relu'),\n",
    "    tf.keras.layers.Dense(HORIZON, activation='linear')\n",
    "])"
   ]
  },
  {
   "cell_type": "code",
   "execution_count": 86,
   "id": "c81e3b39",
   "metadata": {},
   "outputs": [],
   "source": [
    "model_8.compile(\n",
    "    optimizer = tf.keras.optimizers.Adam(learning_rate = .01),\n",
    "    loss = tf.keras.losses.MAE,\n",
    "    metrics = ['mae', 'mse']\n",
    ")"
   ]
  },
  {
   "cell_type": "code",
   "execution_count": 87,
   "id": "da5ecf0d",
   "metadata": {},
   "outputs": [
    {
     "name": "stdout",
     "output_type": "stream",
     "text": [
      "Epoch 1/10\n"
     ]
    },
    {
     "name": "stdout",
     "output_type": "stream",
     "text": [
      "24/24 [==============================] - 23s 490ms/step - loss: 8915.4561 - mae: 8915.4561 - mse: 280013472.0000\n",
      "Epoch 2/10\n",
      "24/24 [==============================] - 11s 456ms/step - loss: 8788.8506 - mae: 8788.8506 - mse: 273548608.0000\n",
      "Epoch 3/10\n",
      "24/24 [==============================] - 11s 457ms/step - loss: 8781.7549 - mae: 8781.7549 - mse: 270922144.0000\n",
      "Epoch 4/10\n",
      "24/24 [==============================] - 11s 455ms/step - loss: 8767.5762 - mae: 8767.5762 - mse: 267808496.0000\n",
      "Epoch 5/10\n",
      "24/24 [==============================] - 12s 505ms/step - loss: 8779.6006 - mae: 8779.6006 - mse: 268557408.0000\n",
      "Epoch 6/10\n",
      "24/24 [==============================] - 11s 477ms/step - loss: 8792.9102 - mae: 8792.9102 - mse: 270180320.0000\n",
      "Epoch 7/10\n",
      "24/24 [==============================] - 11s 458ms/step - loss: 8763.6787 - mae: 8763.6787 - mse: 268922624.0000\n",
      "Epoch 8/10\n",
      "24/24 [==============================] - 11s 472ms/step - loss: 8742.6777 - mae: 8742.6777 - mse: 272094752.0000\n",
      "Epoch 9/10\n",
      "24/24 [==============================] - 11s 470ms/step - loss: 8747.4473 - mae: 8747.4473 - mse: 264699536.0000\n",
      "Epoch 10/10\n",
      "24/24 [==============================] - 11s 455ms/step - loss: 8742.7041 - mae: 8742.7041 - mse: 271116480.0000\n"
     ]
    }
   ],
   "source": [
    "history_8 = model_8.fit(\n",
    "    train_windows,\n",
    "    train_labels,\n",
    "    batch_size=128,\n",
    "    epochs=10,\n",
    ")"
   ]
  },
  {
   "cell_type": "markdown",
   "id": "43e430ea",
   "metadata": {},
   "source": [
    "Issues with batch size 128, default 32 is better"
   ]
  },
  {
   "cell_type": "markdown",
   "id": "7e825e99",
   "metadata": {},
   "source": [
    "**Update window size**"
   ]
  },
  {
   "cell_type": "code",
   "execution_count": 88,
   "id": "d38ce0d5",
   "metadata": {},
   "outputs": [],
   "source": [
    "HORIZON = 1\n",
    "WINDOW_SIZE = 30"
   ]
  },
  {
   "cell_type": "code",
   "execution_count": 89,
   "id": "5c7aca0c",
   "metadata": {},
   "outputs": [
    {
     "data": {
      "text/plain": [
       "(2979, 745, 2979, 745)"
      ]
     },
     "execution_count": 89,
     "metadata": {},
     "output_type": "execute_result"
    }
   ],
   "source": [
    "full_windows, full_labels = make_windows(prices, WINDOW_SIZE, HORIZON)\n",
    "train_windows, test_windows, train_labels, test_labels = make_train_test_splits(full_windows, full_labels)\n",
    "len(train_windows), len(test_windows), len(train_labels), len(test_labels)"
   ]
  },
  {
   "cell_type": "code",
   "execution_count": 90,
   "id": "f097793e",
   "metadata": {},
   "outputs": [],
   "source": [
    "model_9 = tf.keras.Sequential([\n",
    "    tf.keras.layers.Input(shape=(WINDOW_SIZE)),\n",
    "    tf.keras.layers.Lambda(lambda x: tf.expand_dims(x, axis=1)),\n",
    "    tf.keras.layers.RNN(LTSCell(32), time_major=True, return_sequences=True),\n",
    "    tf.keras.layers.LSTM(32, activation='relu'),\n",
    "    tf.keras.layers.Dense(HORIZON, activation='linear')\n",
    "])"
   ]
  },
  {
   "cell_type": "code",
   "execution_count": 91,
   "id": "438e1a7a",
   "metadata": {},
   "outputs": [],
   "source": [
    "model_9.compile(\n",
    "    optimizer = tf.keras.optimizers.Adam(learning_rate = .01),\n",
    "    loss = tf.keras.losses.MAE,\n",
    "    metrics = ['mae', 'mse']\n",
    ")"
   ]
  },
  {
   "cell_type": "code",
   "execution_count": 92,
   "id": "cd2bc27b",
   "metadata": {
    "scrolled": false
   },
   "outputs": [
    {
     "name": "stdout",
     "output_type": "stream",
     "text": [
      "Epoch 1/10\n",
      "94/94 [==============================] - 34s 236ms/step - loss: 8849.9492 - mae: 8849.9492 - mse: 273177600.0000\n",
      "Epoch 2/10\n",
      "94/94 [==============================] - 22s 232ms/step - loss: 8895.1523 - mae: 8895.1523 - mse: 275634592.0000\n",
      "Epoch 3/10\n",
      "94/94 [==============================] - 22s 236ms/step - loss: 8886.9424 - mae: 8886.9424 - mse: 272756192.0000\n",
      "Epoch 4/10\n",
      "94/94 [==============================] - 22s 237ms/step - loss: 8885.2842 - mae: 8885.2842 - mse: 274871392.0000\n",
      "Epoch 5/10\n",
      "94/94 [==============================] - 22s 230ms/step - loss: 8882.8838 - mae: 8882.8838 - mse: 270206880.0000\n",
      "Epoch 6/10\n",
      "94/94 [==============================] - 22s 236ms/step - loss: 8855.9277 - mae: 8855.9277 - mse: 271358080.0000\n",
      "Epoch 7/10\n",
      "94/94 [==============================] - 21s 227ms/step - loss: 8909.4473 - mae: 8909.4473 - mse: 274931424.0000\n",
      "Epoch 8/10\n",
      "94/94 [==============================] - 21s 229ms/step - loss: 8811.2812 - mae: 8811.2812 - mse: 271187232.0000\n",
      "Epoch 9/10\n",
      "94/94 [==============================] - 22s 236ms/step - loss: 8861.1240 - mae: 8861.1240 - mse: 275129952.0000\n",
      "Epoch 10/10\n",
      "94/94 [==============================] - 22s 235ms/step - loss: 8884.1875 - mae: 8884.1875 - mse: 271632960.0000\n"
     ]
    }
   ],
   "source": [
    "history_9 = model_9.fit(\n",
    "    train_windows,\n",
    "    train_labels,\n",
    "    epochs=10,\n",
    ")"
   ]
  },
  {
   "cell_type": "markdown",
   "id": "ef87f97a",
   "metadata": {},
   "source": [
    "Window size of 7 is better"
   ]
  },
  {
   "cell_type": "markdown",
   "id": "9d7c9c8c",
   "metadata": {},
   "source": [
    "### Complete training"
   ]
  },
  {
   "cell_type": "markdown",
   "id": "c25830cf",
   "metadata": {},
   "source": [
    "**Create callback functions**"
   ]
  },
  {
   "cell_type": "code",
   "execution_count": 93,
   "id": "f66c8a13",
   "metadata": {},
   "outputs": [],
   "source": [
    "# Model checkpoint with a specific filename\n",
    "def create_model_checkpoint(model_name, save_path='model_checkpoints', monitor_dataset_loss=False):\n",
    "    return tf.keras.callbacks.ModelCheckpoint(\n",
    "        filepath=os.path.join(save_path, model_name),\n",
    "        verbose=0,\n",
    "        save_best_only=True,\n",
    "        monitor='loss' if monitor_dataset_loss else 'val_loss',\n",
    "    )\n",
    "\n",
    "# Create a tensorboard callback\n",
    "def create_tensorboard_callback(dir_name, experiment_name):\n",
    "    log_dir = dir_name + '/' + experiment_name + '/' + datetime.datetime.now().strftime('%Y%m%d-%H%M%S')\n",
    "    tensorboard_callback = tf.keras.callbacks.TensorBoard(\n",
    "      log_dir=log_dir\n",
    "    )\n",
    "\n",
    "    print(f'Saving TensorBoard log files to: {log_dir}')\n",
    "    return tensorboard_callback\n",
    "\n",
    "# Create early stopping callback\n",
    "early_stopping = tf.keras.callbacks.EarlyStopping(\n",
    "    patience=200,\n",
    "    restore_best_weights=True\n",
    ")\n",
    "\n",
    "# create reduce lr on plateau callback\n",
    "reduce_lr_plateau = tf.keras.callbacks.ReduceLROnPlateau(\n",
    "    patience=100,\n",
    "    verbose=1\n",
    ")"
   ]
  },
  {
   "cell_type": "code",
   "execution_count": 94,
   "id": "c1d606ac",
   "metadata": {},
   "outputs": [],
   "source": [
    "HORIZON = 1\n",
    "WINDOW_SIZE = 7"
   ]
  },
  {
   "cell_type": "code",
   "execution_count": 95,
   "id": "75b67110",
   "metadata": {},
   "outputs": [
    {
     "data": {
      "text/plain": [
       "(2997, 750, 2997, 750)"
      ]
     },
     "execution_count": 95,
     "metadata": {},
     "output_type": "execute_result"
    }
   ],
   "source": [
    "full_windows, full_labels = make_windows(prices, WINDOW_SIZE, HORIZON)\n",
    "train_windows, test_windows, train_labels, test_labels = make_train_test_splits(full_windows, full_labels)\n",
    "len(train_windows), len(test_windows), len(train_labels), len(test_labels)"
   ]
  },
  {
   "cell_type": "code",
   "execution_count": 96,
   "id": "52aa8607",
   "metadata": {},
   "outputs": [],
   "source": [
    "model_10 = tf.keras.Sequential([\n",
    "    tf.keras.layers.Input(shape=(WINDOW_SIZE)),\n",
    "    tf.keras.layers.Lambda(lambda x: tf.expand_dims(x, axis=1)),\n",
    "    tf.keras.layers.RNN(LTSCell(32), time_major=True, return_sequences=True),\n",
    "    tf.keras.layers.LSTM(32, activation='relu'),\n",
    "    tf.keras.layers.Dense(HORIZON, activation='linear')\n",
    "], name='model_10')"
   ]
  },
  {
   "cell_type": "code",
   "execution_count": 97,
   "id": "91d7d1d7",
   "metadata": {},
   "outputs": [],
   "source": [
    "model_10.compile(\n",
    "    optimizer = tf.keras.optimizers.Adam(learning_rate = .01),\n",
    "    loss = tf.keras.losses.MAE,\n",
    "    metrics = ['mae', 'mse']\n",
    ")"
   ]
  },
  {
   "cell_type": "code",
   "execution_count": 98,
   "id": "a60ea72d",
   "metadata": {},
   "outputs": [
    {
     "ename": "NameError",
     "evalue": "name 'datetime' is not defined",
     "output_type": "error",
     "traceback": [
      "\u001b[0;31m---------------------------------------------------------------------------\u001b[0m",
      "\u001b[0;31mNameError\u001b[0m                                 Traceback (most recent call last)",
      "Cell \u001b[0;32mIn[98], line 7\u001b[0m\n\u001b[1;32m      1\u001b[0m history_10 \u001b[38;5;241m=\u001b[39m model_10\u001b[38;5;241m.\u001b[39mfit(\n\u001b[1;32m      2\u001b[0m     train_windows,\n\u001b[1;32m      3\u001b[0m     train_labels,\n\u001b[1;32m      4\u001b[0m     epochs\u001b[38;5;241m=\u001b[39m\u001b[38;5;241m5000\u001b[39m,\n\u001b[1;32m      5\u001b[0m     callbacks\u001b[38;5;241m=\u001b[39m[\n\u001b[1;32m      6\u001b[0m         create_model_checkpoint(model_name\u001b[38;5;241m=\u001b[39mmodel_10\u001b[38;5;241m.\u001b[39mname),\n\u001b[0;32m----> 7\u001b[0m         \u001b[43mcreate_tensorboard_callback\u001b[49m\u001b[43m(\u001b[49m\n\u001b[1;32m      8\u001b[0m \u001b[43m            \u001b[49m\u001b[43mdir_name\u001b[49m\u001b[38;5;241;43m=\u001b[39;49m\u001b[38;5;124;43m'\u001b[39;49m\u001b[38;5;124;43mtensorboard_logs/tensorboard_logs_model_10\u001b[39;49m\u001b[38;5;124;43m'\u001b[39;49m\u001b[43m,\u001b[49m\n\u001b[1;32m      9\u001b[0m \u001b[43m            \u001b[49m\u001b[43mexperiment_name\u001b[49m\u001b[38;5;241;43m=\u001b[39;49m\u001b[38;5;124;43m'\u001b[39;49m\u001b[38;5;124;43mmodel_10\u001b[39;49m\u001b[38;5;124;43m'\u001b[39;49m\n\u001b[1;32m     10\u001b[0m \u001b[43m        \u001b[49m\u001b[43m)\u001b[49m,\n\u001b[1;32m     11\u001b[0m         early_stopping,\n\u001b[1;32m     12\u001b[0m         reduce_lr_plateau,\n\u001b[1;32m     13\u001b[0m         \n\u001b[1;32m     14\u001b[0m     ]\n\u001b[1;32m     15\u001b[0m )\n",
      "Cell \u001b[0;32mIn[93], line 12\u001b[0m, in \u001b[0;36mcreate_tensorboard_callback\u001b[0;34m(dir_name, experiment_name)\u001b[0m\n\u001b[1;32m     11\u001b[0m \u001b[38;5;28;01mdef\u001b[39;00m \u001b[38;5;21mcreate_tensorboard_callback\u001b[39m(dir_name, experiment_name):\n\u001b[0;32m---> 12\u001b[0m     log_dir \u001b[38;5;241m=\u001b[39m dir_name \u001b[38;5;241m+\u001b[39m \u001b[38;5;124m'\u001b[39m\u001b[38;5;124m/\u001b[39m\u001b[38;5;124m'\u001b[39m \u001b[38;5;241m+\u001b[39m experiment_name \u001b[38;5;241m+\u001b[39m \u001b[38;5;124m'\u001b[39m\u001b[38;5;124m/\u001b[39m\u001b[38;5;124m'\u001b[39m \u001b[38;5;241m+\u001b[39m \u001b[43mdatetime\u001b[49m\u001b[38;5;241m.\u001b[39mdatetime\u001b[38;5;241m.\u001b[39mnow()\u001b[38;5;241m.\u001b[39mstrftime(\u001b[38;5;124m'\u001b[39m\u001b[38;5;124m%\u001b[39m\u001b[38;5;124mY\u001b[39m\u001b[38;5;124m%\u001b[39m\u001b[38;5;124mm\u001b[39m\u001b[38;5;132;01m%d\u001b[39;00m\u001b[38;5;124m-\u001b[39m\u001b[38;5;124m%\u001b[39m\u001b[38;5;124mH\u001b[39m\u001b[38;5;124m%\u001b[39m\u001b[38;5;124mM\u001b[39m\u001b[38;5;124m%\u001b[39m\u001b[38;5;124mS\u001b[39m\u001b[38;5;124m'\u001b[39m)\n\u001b[1;32m     13\u001b[0m     tensorboard_callback \u001b[38;5;241m=\u001b[39m tf\u001b[38;5;241m.\u001b[39mkeras\u001b[38;5;241m.\u001b[39mcallbacks\u001b[38;5;241m.\u001b[39mTensorBoard(\n\u001b[1;32m     14\u001b[0m       log_dir\u001b[38;5;241m=\u001b[39mlog_dir\n\u001b[1;32m     15\u001b[0m     )\n\u001b[1;32m     17\u001b[0m     \u001b[38;5;28mprint\u001b[39m(\u001b[38;5;124mf\u001b[39m\u001b[38;5;124m'\u001b[39m\u001b[38;5;124mSaving TensorBoard log files to: \u001b[39m\u001b[38;5;132;01m{\u001b[39;00mlog_dir\u001b[38;5;132;01m}\u001b[39;00m\u001b[38;5;124m'\u001b[39m)\n",
      "\u001b[0;31mNameError\u001b[0m: name 'datetime' is not defined"
     ]
    }
   ],
   "source": [
    "history_10 = model_10.fit(\n",
    "    train_windows,\n",
    "    train_labels,\n",
    "    epochs=5000,\n",
    "    callbacks=[\n",
    "        create_model_checkpoint(model_name=model_10.name),\n",
    "        create_tensorboard_callback(\n",
    "            dir_name='tensorboard_logs/tensorboard_logs_model_10',\n",
    "            experiment_name='model_10'\n",
    "        ),\n",
    "        early_stopping,\n",
    "        reduce_lr_plateau,\n",
    "        \n",
    "    ]\n",
    ")"
   ]
  }
 ],
 "metadata": {
  "kernelspec": {
   "display_name": "Python 3 (ipykernel)",
   "language": "python",
   "name": "python3"
  },
  "language_info": {
   "codemirror_mode": {
    "name": "ipython",
    "version": 3
   },
   "file_extension": ".py",
   "mimetype": "text/x-python",
   "name": "python",
   "nbconvert_exporter": "python",
   "pygments_lexer": "ipython3",
   "version": "3.11.5"
  },
  "vscode": {
   "interpreter": {
    "hash": "ed21d5474e4d34402bc17b7e6678523875881abed00fabc0c331683181e10ba6"
   }
  }
 },
 "nbformat": 4,
 "nbformat_minor": 5
}
